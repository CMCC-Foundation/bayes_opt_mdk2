{
 "cells": [
  {
   "cell_type": "code",
   "execution_count": null,
   "metadata": {},
   "outputs": [],
   "source": [
    "import toml\n",
    "import glob\n",
    "import pandas as pd\n",
    "import os\n",
    "import sys\n",
    "import numpy as np"
   ]
  },
  {
   "cell_type": "code",
   "execution_count": null,
   "metadata": {},
   "outputs": [],
   "source": [
    "import test_compute_fss_lib\n",
    "import test_multi_fss_lib\n",
    "import test_compute_fss\n",
    "import test_multi_fss_proc"
   ]
  },
  {
   "cell_type": "code",
   "execution_count": null,
   "metadata": {},
   "outputs": [],
   "source": [
    "obs = 0\n",
    "\n",
    "SAT_FOLDER = '/work/asc/machine_learning/projects/iMagine/Medslik-II-medslik_II_3_01_JUNO/MEDSLIKII_workflow_/observations_'\n",
    "DAYS_GROUP = '/2021082*'\n",
    "MEDSLIKII_OUT_DIR = '/work/asc/machine_learning/projects/iMagine/bayes_opt_workflow/test/OUT/MDK_SIM_2021_08_23_1000_syria'\n",
    "\n",
    "OUT_FOLDER = '/work/asc/machine_learning/projects/iMagine/bayes_opt_workflow/test/MDKII_res/MDKII_'\n",
    "DETECTION_FOLDER = OUT_FOLDER + '/detection_' + str(obs)"
   ]
  },
  {
   "cell_type": "code",
   "execution_count": null,
   "metadata": {},
   "outputs": [],
   "source": [
    "''' Punto in cui agire per restringere le osservazioni a pochi giorni '''\n",
    "list_of_obs = glob.glob(SAT_FOLDER + DAYS_GROUP)"
   ]
  },
  {
   "cell_type": "code",
   "execution_count": null,
   "metadata": {},
   "outputs": [],
   "source": [
    "# get sim_length\n",
    "sim_lenght = config['medslik2']['sim_extent']['sim_length']\n",
    "\n",
    "# get simulation date\n",
    "# day\n",
    "dd = config['medslik2']['sim_date']['day']\n",
    "# month\n",
    "mm = config['medslik2']['sim_date']['month']\n",
    "# year\n",
    "yy = config['medslik2']['sim_date']['year']\n",
    "# hour\n",
    "hh = config['medslik2']['sim_date']['hour']\n",
    "\n",
    "sim_date = test_multi_fss_lib.get_sim_date(yy, mm, dd, hh)\n",
    "print(sim_date)\n",
    "\n",
    "fss_df = pd.DataFrame(columns=['folder', 'fss'])"
   ]
  },
  {
   "cell_type": "code",
   "execution_count": null,
   "metadata": {},
   "outputs": [],
   "source": [
    "for slick_folder in list_of_obs:\n",
    "    \n",
    "    null, slick_id=os.path.split(slick_folder)\n",
    "    \n",
    "    slick_date = test_multi_fss_lib.get_slick_date(slick_id)\n",
    "\n",
    "    if (slick_date-sim_date) < float(sim_lenght)/24:\n",
    "        \n",
    "        #out_folder, detection_folder = test_multi_fss_lib.set_out_folder(parent, obs)\n",
    "\n",
    "        test_compute_fss.compute_single_fss(MEDSLIKII_OUT_DIR, slick_folder, DETECTION_FOLDER)\n",
    "        \n",
    "        #pysteps_string = 'python ' + Path.SINGLE_DET_FSS\n",
    "        #args_string = '-f ' + Path.MEDSLIKII_OUT_DIR + ' -o ' + slick_folder + ' -u ' + detection_folder + ' 2> /dev/null'\n",
    "        #os.system(pysteps_string + args_string)\n",
    "\n",
    "        files = glob.glob(DETECTION_FOLDER + '/fss_syria_*.txt')\n",
    "\n",
    "        for file in files:\n",
    "\n",
    "            f = pd.read_csv(file, sep = ' ', header = None)\n",
    "\n",
    "            row = pd.DataFrame([{\"folder\" : OUT_FOLDER, \"fss\" : round(f.iloc[0,1], 4)}])\n",
    "            fss_df = pd.concat([fss_df, row])\n",
    "\n",
    "        obs += 1\n",
    "\n",
    "FSS = fss_df['fss'].max()"
   ]
  },
  {
   "cell_type": "code",
   "execution_count": 19,
   "metadata": {},
   "outputs": [],
   "source": [
    "import netCDF4\n",
    "import numpy as np\n",
    "\n",
    "def get_surface_parcels(fname,time_index):\n",
    "\n",
    "    f = netCDF4.Dataset(fname)\n",
    "    \n",
    "    lat = np.longdouble(f.variables['latitude'][time_index,:])\n",
    "    lon = np.longdouble(f.variables['longitude'][time_index,:])\n",
    "    \n",
    "    return lat, lon\n",
    "\n",
    "def find_nearest(array, value):\n",
    "    array = np.asarray(array)\n",
    "    idx = (np.abs(array - value)).argmin()\n",
    "    return idx"
   ]
  },
  {
   "cell_type": "code",
   "execution_count": 20,
   "metadata": {},
   "outputs": [
    {
     "name": "stdout",
     "output_type": "stream",
     "text": [
      "CIAO2\n",
      "print: 35.17259979248046875 35.85400390625 35.47209930419921875 35.95107269287109375\n",
      "lat: 35.17259979248046875 35.85400390625\n",
      "lon: 35.47209930419921875 35.95107269287109375\n"
     ]
    }
   ],
   "source": [
    "import os\n",
    "\n",
    "import sys\n",
    "sys.path.append(\"/work/asc/machine_learning/projects/iMagine/bayes_opt\")\n",
    "\n",
    "from src.controller.PathController import PathController\n",
    "from compute_fss.test_compute_fss_lib import get_mdksim_date, get_obs_date, get_lonlat_minmax\n",
    "\n",
    "path_controller_instance = PathController(\"/work/asc/machine_learning/projects/iMagine/bayes_opt/src/data_connection/workflow_config.toml\")\n",
    "#print(path_controller_instance.get_MEDSLIK_OUT_DIR())\n",
    "fname = path_controller_instance.get_MEDSLIK_OUT_DIR() + '/spill_properties.nc'\n",
    "\n",
    "simulation_date = get_mdksim_date(path_controller_instance.get_MEDSLIK_OUT_DIR())\n",
    "observation_date = get_obs_date(\"/work/asc/machine_learning/projects/iMagine/bayes_opt/use_case_observations/syria/observations/20210824-0343-SYR-PL-B-01-S1\")\n",
    "\n",
    "time_index = find_nearest(simulation_date, observation_date)\n",
    "\n",
    "lons_f, lats_f = get_surface_parcels(fname, time_index)\n",
    "lonmin, latmin, lonmax, latmax = get_lonlat_minmax(lons_f, lats_f)\n",
    "\n",
    "print(\"lat:\", lonmin, latmin)\n",
    "print(\"lon:\", lonmax, latmax)"
   ]
  },
  {
   "cell_type": "code",
   "execution_count": null,
   "metadata": {},
   "outputs": [],
   "source": []
  }
 ],
 "metadata": {
  "kernelspec": {
   "display_name": "mdk2_env",
   "language": "python",
   "name": "mdk2_env"
  }
 },
 "nbformat": 4,
 "nbformat_minor": 2
}
