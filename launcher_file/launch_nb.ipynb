{
 "cells": [
  {
   "cell_type": "code",
   "execution_count": 1,
   "metadata": {},
   "outputs": [
    {
     "name": "stdout",
     "output_type": "stream",
     "text": [
      "\n",
      "\n",
      "\n",
      "\n",
      "\n",
      "                        ███╗   ███╗███████╗██████╗ ███████╗██╗     ██╗██╗  ██╗        ██╗██╗\n",
      "                        ████╗ ████║██╔════╝██╔══██╗██╔════╝██║     ██║██║ ██╔╝        ██║██║\n",
      "                        ██╔████╔██║█████╗  ██║  ██║███████╗██║     ██║█████╔╝         ██║██║\n",
      "                        ██║╚██╔╝██║██╔══╝  ██║  ██║╚════██║██║     ██║██╔═██╗         ██║██║\n",
      "                        ██║ ╚═╝ ██║███████╗██████╔╝███████║███████╗██║██║  ██╗███████╗██║██║\n",
      "                        ╚═╝     ╚═╝╚══════╝╚═════╝ ╚══════╝╚══════╝╚═╝╚═╝  ╚═╝╚══════╝╚═╝╚═╝\n",
      "        \n",
      "\n",
      "\n",
      "\n",
      "\n",
      "> Check Mode\n",
      "> Gather and process OCE and MET fields for the oil spill ...\n",
      "> Coordinates lie within Mediterranean Sea ...\n",
      "> Preparing medslik_II.for and config1.txt files ...\n",
      "    > Modifying medslik_ii.for ...\n",
      "    > Modifying config1.txt ...\n",
      "> Compile MEDSLIK-II (v3.01) ...\n",
      "| iter                 | target               | Horizontal Diffusivi | Wind correction (Dri | Wind correction (Dri |\n",
      "--------------------------------------------------------------------------------------------------------------------\n",
      "| \u001b[0m1                   \u001b[0m | \u001b[0m0.0003              \u001b[0m | \u001b[0m2.0                 \u001b[0m | \u001b[0m0.0                 \u001b[0m | \u001b[0m0.78                \u001b[0m |\n",
      "| \u001b[95m2                   \u001b[0m | \u001b[95m0.0745              \u001b[0m | \u001b[95m19.57               \u001b[0m | \u001b[95m2.997               \u001b[0m | \u001b[95m0.03331             \u001b[0m |\n",
      "| \u001b[95m3                   \u001b[0m | \u001b[95m0.0803              \u001b[0m | \u001b[95m7.952               \u001b[0m | \u001b[95m10.45               \u001b[0m | \u001b[95m0.006726            \u001b[0m |\n",
      "====================================================================================================================\n",
      "\n"
     ]
    }
   ],
   "source": [
    "!conda run -p /work/asc/machine_learning/projects/iMagine/bayes_opt_workflow/env/mdk2_env \\\n",
    "python /work/asc/machine_learning/projects/iMagine/bayes_opt_20240213/src/main/main.py \\\n",
    "--mode 0"
   ]
  },
  {
   "cell_type": "code",
   "execution_count": 5,
   "metadata": {},
   "outputs": [
    {
     "name": "stdout",
     "output_type": "stream",
     "text": [
      "env: PYTHONPATH=$PYTHONPATH:/work/cmcc/machine_learning/md31923/iMagine/bayes_opt_mdk2\n",
      "env: SIMPATH=$SIMPATH:/work/cmcc/machine_learning/md31923/iMagine/simulation/Medslik_II\n",
      "env: OBSPATH=$OBSPATH:/work/cmcc/machine_learning/md31923/iMagine/bayes_opt_mdk2/use_case_observations/syria/observations_2021_08_23_1000/20210824-1533-SYR-PL-B-01-S1\n",
      "\n",
      "\n",
      "\n",
      "\n",
      "\n",
      "                        ███╗   ███╗███████╗██████╗ ███████╗██╗     ██╗██╗  ██╗        ██╗██╗\n",
      "                        ████╗ ████║██╔════╝██╔══██╗██╔════╝██║     ██║██║ ██╔╝        ██║██║\n",
      "                        ██╔████╔██║█████╗  ██║  ██║███████╗██║     ██║█████╔╝         ██║██║\n",
      "                        ██║╚██╔╝██║██╔══╝  ██║  ██║╚════██║██║     ██║██╔═██╗         ██║██║\n",
      "                        ██║ ╚═╝ ██║███████╗██████╔╝███████║███████╗██║██║  ██╗███████╗██║██║\n",
      "                        ╚═╝     ╚═╝╚══════╝╚═════╝ ╚══════╝╚══════╝╚═╝╚═╝  ╚═╝╚══════╝╚═╝╚═╝\n",
      "        \n",
      "\n",
      "\n",
      "\n",
      "\n",
      "> Check Mode\n",
      "*** Execution type : MEDSLIK-II simulation ***\n",
      "> Gather and process OCE and MET fields for the oil spill ...\n",
      "> Compile MEDSLIK-II (v3.01) ...\n",
      "Compute Multi FSS, An error occurred: index exceeds dimension bounds\n",
      "None\n",
      "\n"
     ]
    }
   ],
   "source": [
    "%env PYTHONPATH=$PYTHONPATH:/work/cmcc/machine_learning/md31923/iMagine/bayes_opt_mdk2\n",
    "%env SIMPATH=$SIMPATH:/work/cmcc/machine_learning/md31923/iMagine/simulation/Medslik_II\n",
    "%env OBSPATH=$OBSPATH:/work/cmcc/machine_learning/md31923/iMagine/bayes_opt_mdk2/use_case_observations/syria/observations_2021_08_23_1000/20210824-0810-SYR-PL-A-01-S3\n",
    "\n",
    "!conda run -p /work/cmcc/machine_learning/md31923/iMagine/bayes_opt_workflow/env/mdk2_env \\\n",
    "python /work/cmcc/machine_learning/md31923/iMagine/bayes_opt_20240213_test/src/main/main.py \\\n",
    "--mode 1"
   ]
  },
  {
   "cell_type": "code",
   "execution_count": null,
   "metadata": {},
   "outputs": [],
   "source": []
  }
 ],
 "metadata": {
  "kernelspec": {
   "display_name": "mdk2_env",
   "language": "python",
   "name": "mdk2_env"
  },
  "language_info": {
   "codemirror_mode": {
    "name": "ipython",
    "version": 3
   },
   "file_extension": ".py",
   "mimetype": "text/x-python",
   "name": "python",
   "nbconvert_exporter": "python",
   "pygments_lexer": "ipython3",
   "version": "3.8.18"
  }
 },
 "nbformat": 4,
 "nbformat_minor": 2
}
