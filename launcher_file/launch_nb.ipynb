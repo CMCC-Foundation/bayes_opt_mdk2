{
 "cells": [
  {
   "cell_type": "code",
   "execution_count": 1,
   "metadata": {},
   "outputs": [
    {
     "name": "stdout",
     "output_type": "stream",
     "text": [
      "\n",
      "\n",
      "\n",
      "\n",
      "\n",
      "                        ███╗   ███╗███████╗██████╗ ███████╗██╗     ██╗██╗  ██╗        ██╗██╗\n",
      "                        ████╗ ████║██╔════╝██╔══██╗██╔════╝██║     ██║██║ ██╔╝        ██║██║\n",
      "                        ██╔████╔██║█████╗  ██║  ██║███████╗██║     ██║█████╔╝         ██║██║\n",
      "                        ██║╚██╔╝██║██╔══╝  ██║  ██║╚════██║██║     ██║██╔═██╗         ██║██║\n",
      "                        ██║ ╚═╝ ██║███████╗██████╔╝███████║███████╗██║██║  ██╗███████╗██║██║\n",
      "                        ╚═╝     ╚═╝╚══════╝╚═════╝ ╚══════╝╚══════╝╚═╝╚═╝  ╚═╝╚══════╝╚═╝╚═╝\n",
      "        \n",
      "\n",
      "\n",
      "\n",
      "\n",
      "> Check Mode\n",
      "> Gather and process OCE and MET fields for the oil spill ...\n",
      "> Coordinates lie within Mediterranean Sea ...\n",
      "> Preparing medslik_II.for and config1.txt files ...\n",
      "    > Modifying medslik_ii.for ...\n",
      "    > Modifying config1.txt ...\n",
      "> Compile MEDSLIK-II (v3.01) ...\n",
      "| iter                 | target               | Horizontal Diffusivi | Wind correction (Dri | Wind correction (Dri |\n",
      "--------------------------------------------------------------------------------------------------------------------\n",
      "| \u001b[0m1                   \u001b[0m | \u001b[0m0.0003              \u001b[0m | \u001b[0m2.0                 \u001b[0m | \u001b[0m0.0                 \u001b[0m | \u001b[0m0.78                \u001b[0m |\n",
      "| \u001b[95m2                   \u001b[0m | \u001b[95m0.0745              \u001b[0m | \u001b[95m19.57               \u001b[0m | \u001b[95m2.997               \u001b[0m | \u001b[95m0.03331             \u001b[0m |\n",
      "| \u001b[95m3                   \u001b[0m | \u001b[95m0.0803              \u001b[0m | \u001b[95m7.952               \u001b[0m | \u001b[95m10.45               \u001b[0m | \u001b[95m0.006726            \u001b[0m |\n",
      "====================================================================================================================\n",
      "\n"
     ]
    }
   ],
   "source": [
    "!conda run -p /work/asc/machine_learning/projects/iMagine/bayes_opt_workflow/env/mdk2_env \\\n",
    "python /work/asc/machine_learning/projects/iMagine/bayes_opt_20240213/src/main/main.py \\\n",
    "--mode 0"
   ]
  },
  {
   "cell_type": "code",
   "execution_count": 1,
   "metadata": {},
   "outputs": [
    {
     "name": "stdout",
     "output_type": "stream",
     "text": [
      "env: PYTHONPATH=$PYTHONPATH:/work/asc/machine_learning/projects/iMagine/bayes_opt_20240213\n"
     ]
    },
    {
     "name": "stdout",
     "output_type": "stream",
     "text": [
      "\n",
      "\n",
      "\n",
      "\n",
      "\n",
      "                        ███╗   ███╗███████╗██████╗ ███████╗██╗     ██╗██╗  ██╗        ██╗██╗\n",
      "                        ████╗ ████║██╔════╝██╔══██╗██╔════╝██║     ██║██║ ██╔╝        ██║██║\n",
      "                        ██╔████╔██║█████╗  ██║  ██║███████╗██║     ██║█████╔╝         ██║██║\n",
      "                        ██║╚██╔╝██║██╔══╝  ██║  ██║╚════██║██║     ██║██╔═██╗         ██║██║\n",
      "                        ██║ ╚═╝ ██║███████╗██████╔╝███████║███████╗██║██║  ██╗███████╗██║██║\n",
      "                        ╚═╝     ╚═╝╚══════╝╚═════╝ ╚══════╝╚══════╝╚═╝╚═╝  ╚═╝╚══════╝╚═╝╚═╝\n",
      "        \n",
      "\n",
      "\n",
      "\n",
      "\n",
      "> Check Mode\n",
      "> Gather and process OCE and MET fields for the oil spill ...\n",
      "> Coordinates lie within Mediterranean Sea ...\n",
      "> Preparing medslik_II.for and config1.txt files ...\n",
      "    > Modifying medslik_ii.for ...\n",
      "    > Modifying config1.txt ...\n",
      "> Compile MEDSLIK-II (v3.01) ...\n",
      "| iter                 | target               | Horizontal Diffusivi | Wind correction (Dri | Wind correction (Dri |\n",
      "--------------------------------------------------------------------------------------------------------------------\n",
      "| \u001b[0m1                   \u001b[0m | \u001b[0m0.0                 \u001b[0m | \u001b[0m2.0                 \u001b[0m | \u001b[0m0.0                 \u001b[0m | \u001b[0m0.78                \u001b[0m |\n",
      "| \u001b[95m2                   \u001b[0m | \u001b[95m0.0711              \u001b[0m | \u001b[95m16.99               \u001b[0m | \u001b[95m14.26               \u001b[0m | \u001b[95m0.01868             \u001b[0m |\n",
      "| \u001b[0m3                   \u001b[0m | \u001b[0m0.0218              \u001b[0m | \u001b[0m3.95                \u001b[0m | \u001b[0m7.118               \u001b[0m | \u001b[0m0.04221             \u001b[0m |\n",
      "====================================================================================================================\n",
      "\n"
     ]
    }
   ],
   "source": [
    "%env PYTHONPATH=$PYTHONPATH:/work/asc/machine_learning/projects/iMagine/bayes_opt_20240214\n",
    "\n",
    "!conda run -p /work/asc/machine_learning/projects/iMagine/bayes_opt_workflow/env/mdk2_env \\\n",
    "python /work/asc/machine_learning/projects/iMagine/bayes_opt_20240214/src/main/main.py \\\n",
    "--mode 0"
   ]
  },
  {
   "cell_type": "code",
   "execution_count": 1,
   "metadata": {},
   "outputs": [
    {
     "name": "stdout",
     "output_type": "stream",
     "text": [
      "env: PYTHONPATH=$PYTHONPATH:/work/asc/machine_learning/projects/iMagine/bayes_opt_20240214\n"
     ]
    }
   ],
   "source": [
    "%env PYTHONPATH=$PYTHONPATH:/work/asc/machine_learning/projects/iMagine/bayes_opt_20240214"
   ]
  },
  {
   "cell_type": "code",
   "execution_count": 2,
   "metadata": {},
   "outputs": [
    {
     "name": "stdout",
     "output_type": "stream",
     "text": [
      "/work/asc/machine_learning/projects/iMagine/bayes_opt_20240214\n"
     ]
    }
   ],
   "source": [
    "import os\n",
    "\n",
    "# Leggi il valore della variabile di ambiente PYTHONPATH\n",
    "#python_path_full = os.environ.get('PYTHONPATH')\n",
    "\n",
    "# Prendi solo il percorso\n",
    "python_path = os.environ.get('PYTHONPATH').split(\":\")[1]\n",
    "\n",
    "# Stampa il percorso\n",
    "print(python_path)"
   ]
  },
  {
   "cell_type": "code",
   "execution_count": 3,
   "metadata": {},
   "outputs": [
    {
     "name": "stdout",
     "output_type": "stream",
     "text": [
      "/work/asc/machine_learning/projects/iMagine/bayes_opt_20240214\n"
     ]
    }
   ],
   "source": [
    "# Prendi solo il percorso\n",
    "python_path = os.environ.get('PYTHONPATH').split(\":\")[1]\n",
    "\n",
    "# Stampa il percorso\n",
    "print(python_path)"
   ]
  },
  {
   "cell_type": "code",
   "execution_count": null,
   "metadata": {},
   "outputs": [],
   "source": []
  }
 ],
 "metadata": {
  "kernelspec": {
   "display_name": "mdk2_env",
   "language": "python",
   "name": "mdk2_env"
  },
  "language_info": {
   "codemirror_mode": {
    "name": "ipython",
    "version": 3
   },
   "file_extension": ".py",
   "mimetype": "text/x-python",
   "name": "python",
   "nbconvert_exporter": "python",
   "pygments_lexer": "ipython3",
   "version": "3.8.18"
  }
 },
 "nbformat": 4,
 "nbformat_minor": 2
}
