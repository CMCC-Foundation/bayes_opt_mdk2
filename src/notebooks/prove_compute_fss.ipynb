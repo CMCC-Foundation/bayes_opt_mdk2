{
 "cells": [
  {
   "cell_type": "code",
   "execution_count": 1,
   "metadata": {},
   "outputs": [
    {
     "name": "stderr",
     "output_type": "stream",
     "text": [
      "/work/asc/machine_learning/projects/iMagine/bayes_opt_20240211/src/service/MetricsService.py:99: FutureWarning: The `op` parameter is deprecated and will be removed in a future release. Please use the `predicate` parameter instead.\n",
      "  return self.metrics_service_impl_instance.compute_multi_fss_service_impl()\n",
      "/work/asc/machine_learning/projects/iMagine/bayes_opt_20240211/src/service/MetricsService.py:99: FutureWarning: The `op` parameter is deprecated and will be removed in a future release. Please use the `predicate` parameter instead.\n",
      "  return self.metrics_service_impl_instance.compute_multi_fss_service_impl()\n",
      "/work/asc/machine_learning/projects/iMagine/bayes_opt_20240211/src/service/MetricsService.py:99: FutureWarning: The `op` parameter is deprecated and will be removed in a future release. Please use the `predicate` parameter instead.\n",
      "  return self.metrics_service_impl_instance.compute_multi_fss_service_impl()\n",
      "/work/asc/machine_learning/projects/iMagine/bayes_opt_20240211/src/service/MetricsService.py:99: FutureWarning: The `op` parameter is deprecated and will be removed in a future release. Please use the `predicate` parameter instead.\n",
      "  return self.metrics_service_impl_instance.compute_multi_fss_service_impl()\n",
      "/work/asc/machine_learning/projects/iMagine/bayes_opt_20240211/src/service/MetricsService.py:99: FutureWarning: The `op` parameter is deprecated and will be removed in a future release. Please use the `predicate` parameter instead.\n",
      "  return self.metrics_service_impl_instance.compute_multi_fss_service_impl()\n",
      "/work/asc/machine_learning/projects/iMagine/bayes_opt_20240211/src/service/MetricsService.py:99: FutureWarning: The `op` parameter is deprecated and will be removed in a future release. Please use the `predicate` parameter instead.\n",
      "  return self.metrics_service_impl_instance.compute_multi_fss_service_impl()\n",
      "/work/asc/machine_learning/projects/iMagine/bayes_opt_20240211/src/service/MetricsService.py:99: FutureWarning: The `op` parameter is deprecated and will be removed in a future release. Please use the `predicate` parameter instead.\n",
      "  return self.metrics_service_impl_instance.compute_multi_fss_service_impl()\n"
     ]
    },
    {
     "name": "stdout",
     "output_type": "stream",
     "text": [
      "0.0003\n"
     ]
    }
   ],
   "source": [
    "import sys\n",
    "sys.path.append(\"/work/asc/machine_learning/projects/iMagine/bayes_opt_20240211\")\n",
    "\n",
    "from src.service.MetricsService import MetricsService\n",
    "\n",
    "instance = MetricsService()\n",
    "\n",
    "\n",
    "FSS = instance.compute_multi_fss_service()"
   ]
  },
  {
   "cell_type": "code",
   "execution_count": 1,
   "metadata": {},
   "outputs": [
    {
     "ename": "NameError",
     "evalue": "name 'FSS' is not defined",
     "output_type": "error",
     "traceback": [
      "\u001b[0;31m---------------------------------------------------------------------------\u001b[0m",
      "\u001b[0;31mNameError\u001b[0m                                 Traceback (most recent call last)",
      "Cell \u001b[0;32mIn[1], line 1\u001b[0m\n\u001b[0;32m----> 1\u001b[0m \u001b[38;5;28mprint\u001b[39m(\u001b[43mFSS\u001b[49m)\n",
      "\u001b[0;31mNameError\u001b[0m: name 'FSS' is not defined"
     ]
    }
   ],
   "source": [
    "print(FSS)"
   ]
  },
  {
   "cell_type": "code",
   "execution_count": 3,
   "metadata": {},
   "outputs": [],
   "source": [
    "import glob\n",
    "import os\n",
    "import pandas as pd\n",
    "\n",
    "import sys\n",
    "sys.path.append(\"/work/asc/machine_learning/projects/iMagine/bayes_opt_20240211\")\n",
    "\n",
    "from src.controller.PathController import PathController\n",
    "from src.service.MDK2SimDateService import MDK2SimDateService\n",
    "from src.service.MDK2SimExtentService import MDK2SimExtentService\n",
    "from src.serviceImpl.MetricsServiceImpl import MetricsServiceImpl\n",
    "\n",
    "\n",
    "path_controller_instance = PathController()\n",
    "mdk2_sim_date_instance = MDK2SimDateService()\n",
    "mdk2_sim_extent_instance = MDK2SimExtentService()\n",
    "metric_service_instance = MetricsServiceImpl()\n",
    "\n",
    "def compute_multi_fss():\n",
    "\n",
    "    ''' Punto in cui agire per restringere le osservazioni a pochi giorni '''\n",
    "    list_of_obs = glob.glob(path_controller_instance.get_OBS() + path_controller_instance.get_DAYS_GROUP())\n",
    "\n",
    "    sim_lenght = mdk2_sim_extent_instance.get_sim_lenght()\n",
    "\n",
    "    yy = mdk2_sim_date_instance.get_year()\n",
    "    mm = mdk2_sim_date_instance.get_month()\n",
    "    dd = mdk2_sim_date_instance.get_day()\n",
    "    hh = mdk2_sim_date_instance.get_hour()\n",
    "\n",
    "    sim_date = metric_service_instance.get_sim_date_service_impl(yy, mm, dd, hh)\n",
    "\n",
    "    fss_df = pd.DataFrame(columns=['folder', 'fss'])\n",
    "\n",
    "    obs = 0\n",
    "    for slick_folder in list_of_obs:\n",
    "        \n",
    "        null, slick_id = os.path.split(slick_folder)\n",
    "        \n",
    "        slick_date = metric_service_instance.get_slick_date_service_impl(slick_id)\n",
    "\n",
    "        if (slick_date-sim_date) < float(sim_lenght)/24:\n",
    "\n",
    "            path_controller_instance.create_detection_dir(str(obs))\n",
    "            \n",
    "            metric_service_instance.compute_sin_fss(path_controller_instance.get_MEDSLIK_OUT_DIR(), slick_folder, path_controller_instance.get_detection_dir(str(obs)))\n",
    "            files = glob.glob(os.path.join(path_controller_instance.get_detection_dir(str(obs)), f\"fss_syria_*.txt\"))\n",
    "\n",
    "            for file in files:\n",
    "        \n",
    "                f = pd.read_csv(file, sep = ' ', header = None)\n",
    "\n",
    "                row = pd.DataFrame([{\"folder\" : path_controller_instance.get_sim_result_dir(), \"fss\" : round(f.iloc[0,1], 4)}])\n",
    "                fss_df = pd.concat([fss_df, row])\n",
    "\n",
    "            obs += 1\n",
    "\n",
    "    FSS = fss_df['fss'].max()\n",
    "    # print(FSS)\n",
    "\n",
    "    return FSS"
   ]
  },
  {
   "cell_type": "code",
   "execution_count": 4,
   "metadata": {},
   "outputs": [
    {
     "name": "stderr",
     "output_type": "stream",
     "text": [
      "/tmp/ipykernel_2986409/1517197462.py:1: FutureWarning: The `op` parameter is deprecated and will be removed in a future release. Please use the `predicate` parameter instead.\n",
      "  FSS = compute_multi_fss()\n",
      "/tmp/ipykernel_2986409/1517197462.py:1: FutureWarning: The `op` parameter is deprecated and will be removed in a future release. Please use the `predicate` parameter instead.\n",
      "  FSS = compute_multi_fss()\n",
      "/tmp/ipykernel_2986409/1517197462.py:1: FutureWarning: The `op` parameter is deprecated and will be removed in a future release. Please use the `predicate` parameter instead.\n",
      "  FSS = compute_multi_fss()\n",
      "/tmp/ipykernel_2986409/1517197462.py:1: FutureWarning: The `op` parameter is deprecated and will be removed in a future release. Please use the `predicate` parameter instead.\n",
      "  FSS = compute_multi_fss()\n",
      "/tmp/ipykernel_2986409/1517197462.py:1: FutureWarning: The `op` parameter is deprecated and will be removed in a future release. Please use the `predicate` parameter instead.\n",
      "  FSS = compute_multi_fss()\n"
     ]
    },
    {
     "ename": "KeyboardInterrupt",
     "evalue": "",
     "output_type": "error",
     "traceback": [
      "\u001b[0;31m---------------------------------------------------------------------------\u001b[0m",
      "\u001b[0;31mKeyboardInterrupt\u001b[0m                         Traceback (most recent call last)",
      "Cell \u001b[0;32mIn[4], line 1\u001b[0m\n\u001b[0;32m----> 1\u001b[0m FSS \u001b[38;5;241m=\u001b[39m \u001b[43mcompute_multi_fss\u001b[49m\u001b[43m(\u001b[49m\u001b[43m)\u001b[49m\n\u001b[1;32m      2\u001b[0m \u001b[38;5;28mprint\u001b[39m(\u001b[38;5;124m\"\u001b[39m\u001b[38;5;124mFSS:\u001b[39m\u001b[38;5;124m\"\u001b[39m, FSS)\n",
      "Cell \u001b[0;32mIn[3], line 46\u001b[0m, in \u001b[0;36mcompute_multi_fss\u001b[0;34m()\u001b[0m\n\u001b[1;32m     42\u001b[0m \u001b[38;5;28;01mif\u001b[39;00m (slick_date\u001b[38;5;241m-\u001b[39msim_date) \u001b[38;5;241m<\u001b[39m \u001b[38;5;28mfloat\u001b[39m(sim_lenght)\u001b[38;5;241m/\u001b[39m\u001b[38;5;241m24\u001b[39m:\n\u001b[1;32m     44\u001b[0m     path_controller_instance\u001b[38;5;241m.\u001b[39mcreate_detection_dir(\u001b[38;5;28mstr\u001b[39m(obs))\n\u001b[0;32m---> 46\u001b[0m     \u001b[43mmetric_service_instance\u001b[49m\u001b[38;5;241;43m.\u001b[39;49m\u001b[43mcompute_sin_fss\u001b[49m\u001b[43m(\u001b[49m\u001b[43mpath_controller_instance\u001b[49m\u001b[38;5;241;43m.\u001b[39;49m\u001b[43mget_MEDSLIK_OUT_DIR\u001b[49m\u001b[43m(\u001b[49m\u001b[43m)\u001b[49m\u001b[43m,\u001b[49m\u001b[43m \u001b[49m\u001b[43mslick_folder\u001b[49m\u001b[43m,\u001b[49m\u001b[43m \u001b[49m\u001b[43mpath_controller_instance\u001b[49m\u001b[38;5;241;43m.\u001b[39;49m\u001b[43mget_detection_dir\u001b[49m\u001b[43m(\u001b[49m\u001b[38;5;28;43mstr\u001b[39;49m\u001b[43m(\u001b[49m\u001b[43mobs\u001b[49m\u001b[43m)\u001b[49m\u001b[43m)\u001b[49m\u001b[43m)\u001b[49m\n\u001b[1;32m     47\u001b[0m     files \u001b[38;5;241m=\u001b[39m glob\u001b[38;5;241m.\u001b[39mglob(os\u001b[38;5;241m.\u001b[39mpath\u001b[38;5;241m.\u001b[39mjoin(path_controller_instance\u001b[38;5;241m.\u001b[39mget_detection_dir(\u001b[38;5;28mstr\u001b[39m(obs)), \u001b[38;5;124mf\u001b[39m\u001b[38;5;124m\"\u001b[39m\u001b[38;5;124mfss_syria_*.txt\u001b[39m\u001b[38;5;124m\"\u001b[39m))\n\u001b[1;32m     49\u001b[0m     \u001b[38;5;28;01mfor\u001b[39;00m file \u001b[38;5;129;01min\u001b[39;00m files:\n",
      "File \u001b[0;32m/work/asc/machine_learning/projects/iMagine/bayes_opt_20240211/src/serviceImpl/MetricsServiceImpl.py:471\u001b[0m, in \u001b[0;36mMetricsServiceImpl.compute_sin_fss\u001b[0;34m(self, simulation_folder, observation_shp, output_folder)\u001b[0m\n\u001b[1;32m    469\u001b[0m \u001b[38;5;66;03m# Save FSS output and event set data as text files\u001b[39;00m\n\u001b[1;32m    470\u001b[0m np\u001b[38;5;241m.\u001b[39msavetxt(output_folder \u001b[38;5;241m+\u001b[39m \u001b[38;5;124m'\u001b[39m\u001b[38;5;124m/fss_\u001b[39m\u001b[38;5;124m'\u001b[39m \u001b[38;5;241m+\u001b[39m xp_identifier \u001b[38;5;241m+\u001b[39m \u001b[38;5;124m'\u001b[39m\u001b[38;5;124m.txt\u001b[39m\u001b[38;5;124m'\u001b[39m,fss_output)\n\u001b[0;32m--> 471\u001b[0m \u001b[43mnp\u001b[49m\u001b[38;5;241;43m.\u001b[39;49m\u001b[43msavetxt\u001b[49m\u001b[43m(\u001b[49m\u001b[43moutput_folder\u001b[49m\u001b[43m \u001b[49m\u001b[38;5;241;43m+\u001b[39;49m\u001b[43m \u001b[49m\u001b[38;5;124;43m'\u001b[39;49m\u001b[38;5;124;43m/event_set_\u001b[39;49m\u001b[38;5;124;43m'\u001b[39;49m\u001b[43m \u001b[49m\u001b[38;5;241;43m+\u001b[39;49m\u001b[43m \u001b[49m\u001b[43mxp_identifier\u001b[49m\u001b[43m \u001b[49m\u001b[38;5;241;43m+\u001b[39;49m\u001b[43m \u001b[49m\u001b[38;5;124;43m'\u001b[39;49m\u001b[38;5;124;43m.txt\u001b[39;49m\u001b[38;5;124;43m'\u001b[39;49m\u001b[43m,\u001b[49m\u001b[43mevent_set\u001b[49m\u001b[43m)\u001b[49m\n\u001b[1;32m    473\u001b[0m \u001b[38;5;66;03m# Create a new figure for plotting\u001b[39;00m\n\u001b[1;32m    474\u001b[0m plt\u001b[38;5;241m.\u001b[39mfigure()\n",
      "File \u001b[0;32m<__array_function__ internals>:200\u001b[0m, in \u001b[0;36msavetxt\u001b[0;34m(*args, **kwargs)\u001b[0m\n",
      "File \u001b[0;32m~/mdk2_env/lib/python3.8/site-packages/numpy/lib/npyio.py:1608\u001b[0m, in \u001b[0;36msavetxt\u001b[0;34m(fname, X, fmt, delimiter, newline, header, footer, comments, encoding)\u001b[0m\n\u001b[1;32m   1606\u001b[0m \u001b[38;5;28;01mfor\u001b[39;00m row \u001b[38;5;129;01min\u001b[39;00m X:\n\u001b[1;32m   1607\u001b[0m     \u001b[38;5;28;01mtry\u001b[39;00m:\n\u001b[0;32m-> 1608\u001b[0m         v \u001b[38;5;241m=\u001b[39m \u001b[38;5;28mformat\u001b[39m \u001b[38;5;241m%\u001b[39m \u001b[38;5;28;43mtuple\u001b[39;49m\u001b[43m(\u001b[49m\u001b[43mrow\u001b[49m\u001b[43m)\u001b[49m \u001b[38;5;241m+\u001b[39m newline\n\u001b[1;32m   1609\u001b[0m     \u001b[38;5;28;01mexcept\u001b[39;00m \u001b[38;5;167;01mTypeError\u001b[39;00m \u001b[38;5;28;01mas\u001b[39;00m e:\n\u001b[1;32m   1610\u001b[0m         \u001b[38;5;28;01mraise\u001b[39;00m \u001b[38;5;167;01mTypeError\u001b[39;00m(\u001b[38;5;124m\"\u001b[39m\u001b[38;5;124mMismatch between array dtype (\u001b[39m\u001b[38;5;124m'\u001b[39m\u001b[38;5;132;01m%s\u001b[39;00m\u001b[38;5;124m'\u001b[39m\u001b[38;5;124m) and \u001b[39m\u001b[38;5;124m\"\u001b[39m\n\u001b[1;32m   1611\u001b[0m                         \u001b[38;5;124m\"\u001b[39m\u001b[38;5;124mformat specifier (\u001b[39m\u001b[38;5;124m'\u001b[39m\u001b[38;5;132;01m%s\u001b[39;00m\u001b[38;5;124m'\u001b[39m\u001b[38;5;124m)\u001b[39m\u001b[38;5;124m\"\u001b[39m\n\u001b[1;32m   1612\u001b[0m                         \u001b[38;5;241m%\u001b[39m (\u001b[38;5;28mstr\u001b[39m(X\u001b[38;5;241m.\u001b[39mdtype), \u001b[38;5;28mformat\u001b[39m)) \u001b[38;5;28;01mfrom\u001b[39;00m \u001b[38;5;21;01me\u001b[39;00m\n",
      "\u001b[0;31mKeyboardInterrupt\u001b[0m: "
     ]
    },
    {
     "data": {
      "image/png": "[encoded data removed]",
      "text/plain": [
       "<Figure size 640x480 with 1 Axes>"
      ]
     },
     "metadata": {},
     "output_type": "display_data"
    }
   ],
   "source": [
    "FSS = compute_multi_fss()\n",
    "print(\"FSS:\", FSS)"
   ]
  },
  {
   "cell_type": "code",
   "execution_count": 2,
   "metadata": {},
   "outputs": [
    {
     "data": {
      "text/plain": [
       "'/work/asc/machine_learning/projects/iMagine/bayes_opt_20240211/use_cases/syria/MDK_BAYESOPT_SIM_2021_08_23_1000_0072h_150.0m_1000_syria_20240212-153525'"
      ]
     },
     "execution_count": 2,
     "metadata": {},
     "output_type": "execute_result"
    }
   ],
   "source": [
    "import sys\n",
    "sys.path.append(\"/work/asc/machine_learning/projects/iMagine/bayes_opt_20240211\")\n",
    "\n",
    "from src.controller.PathController import PathController\n",
    "\n",
    "path_ins = PathController()\n",
    "\n",
    "path_ins.get_sim_result_dir()"
   ]
  },
  {
   "cell_type": "code",
   "execution_count": null,
   "metadata": {},
   "outputs": [],
   "source": []
  }
 ],
 "metadata": {
  "kernelspec": {
   "display_name": "mdk2_env",
   "language": "python",
   "name": "mdk2_env"
  },
  "language_info": {
   "codemirror_mode": {
    "name": "ipython",
    "version": 3
   },
   "file_extension": ".py",
   "mimetype": "text/x-python",
   "name": "python",
   "nbconvert_exporter": "python",
   "pygments_lexer": "ipython3",
   "version": "3.8.18"
  }
 },
 "nbformat": 4,
 "nbformat_minor": 2
}
