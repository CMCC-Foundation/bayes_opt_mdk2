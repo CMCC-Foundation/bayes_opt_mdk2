{
 "cells": [
  {
   "cell_type": "code",
   "execution_count": 3,
   "metadata": {},
   "outputs": [
    {
     "name": "stdout",
     "output_type": "stream",
     "text": [
      "Valore corrente di 'b': [[0.0, 0.07], [0.0, 17.0], [0.0, 27.0]]\n"
     ]
    }
   ],
   "source": [
    "import sys\n",
    "sys.path.append(\"/work/asc/machine_learning/projects/iMagine/bayes_opt/src/\")\n",
    "from dto.BayOptBoundsDTO import  BayOptBoundsDTO\n",
    "\n",
    "# Creare un'istanza di Bay_Opt_Bounds_Service\n",
    "bay_opt_bounds_service_instance = BayOptBoundsDTO(\"/work/asc/machine_learning/projects/iMagine/bayes_opt/src/data_connection/workflow_config.toml\")\n",
    "\n",
    "# Ottenere il valore corrente di 'b'\n",
    "valore_corrente_di_b = bay_opt_bounds_service_instance.get_b()\n",
    "print(\"Valore corrente di 'b':\", valore_corrente_di_b)"
   ]
  },
  {
   "cell_type": "code",
   "execution_count": 1,
   "metadata": {},
   "outputs": [
    {
     "ename": "TypeError",
     "evalue": "__init__() takes 1 positional argument but 2 were given",
     "output_type": "error",
     "traceback": [
      "\u001b[0;31m---------------------------------------------------------------------------\u001b[0m",
      "\u001b[0;31mTypeError\u001b[0m                                 Traceback (most recent call last)",
      "Cell \u001b[0;32mIn[1], line 5\u001b[0m\n\u001b[1;32m      2\u001b[0m sys\u001b[38;5;241m.\u001b[39mpath\u001b[38;5;241m.\u001b[39mappend(\u001b[38;5;124m\"\u001b[39m\u001b[38;5;124m/work/asc/machine_learning/projects/iMagine/bayes_opt/src/\u001b[39m\u001b[38;5;124m\"\u001b[39m)\n\u001b[1;32m      3\u001b[0m \u001b[38;5;28;01mfrom\u001b[39;00m \u001b[38;5;21;01mdto\u001b[39;00m\u001b[38;5;21;01m.\u001b[39;00m\u001b[38;5;21;01mBayOptSetupDTO\u001b[39;00m \u001b[38;5;28;01mimport\u001b[39;00m BayOptSetupDTO\n\u001b[0;32m----> 5\u001b[0m bay_opt_setup_service_instance \u001b[38;5;241m=\u001b[39m \u001b[43mBayOptSetupDTO\u001b[49m\u001b[43m(\u001b[49m\u001b[38;5;124;43m\"\u001b[39;49m\u001b[38;5;124;43m/work/asc/machine_learning/projects/iMagine/bayes_opt/src/data_connection/workflow_config.toml\u001b[39;49m\u001b[38;5;124;43m\"\u001b[39;49m\u001b[43m)\u001b[49m\n\u001b[1;32m      6\u001b[0m verbose \u001b[38;5;241m=\u001b[39m bay_opt_setup_service_instance\u001b[38;5;241m.\u001b[39mget_verbose()\n\u001b[1;32m      7\u001b[0m \u001b[38;5;28mprint\u001b[39m(\u001b[38;5;124m\"\u001b[39m\u001b[38;5;124mValore:\u001b[39m\u001b[38;5;124m\"\u001b[39m, verbose)\n",
      "\u001b[0;31mTypeError\u001b[0m: __init__() takes 1 positional argument but 2 were given"
     ]
    }
   ],
   "source": [
    "import sys\n",
    "sys.path.append(\"/work/asc/machine_learning/projects/iMagine/bayes_opt/src/\")\n",
    "from dto.BayOptSetupDTO import BayOptSetupDTO\n",
    "\n",
    "bay_opt_setup_service_instance = BayOptSetupDTO(\"/work/asc/machine_learning/projects/iMagine/bayes_opt/src/data_connection/workflow_config.toml\")\n",
    "verbose = bay_opt_setup_service_instance.get_verbose()\n",
    "print(\"Valore:\", verbose)"
   ]
  },
  {
   "cell_type": "code",
   "execution_count": 29,
   "metadata": {},
   "outputs": [
    {
     "name": "stdout",
     "output_type": "stream",
     "text": [
      "Valore: True\n"
     ]
    }
   ],
   "source": [
    "import sys\n",
    "sys.path.append(\"/work/asc/machine_learning/projects/iMagine/bayes_opt/src/\")\n",
    "from dto.MDK2DataFormatDTO import MDK2DataFormatDTO\n",
    "\n",
    "mdk2_data_format_service_instance = MDK2DataFormatDTO(\"/work/asc/machine_learning/projects/iMagine/bayes_opt/src/data_connection/workflow_config.toml\")\n",
    "process_files = mdk2_data_format_service_instance.get_process_files()\n",
    "print(\"Valore:\", process_files)"
   ]
  },
  {
   "cell_type": "code",
   "execution_count": 30,
   "metadata": {},
   "outputs": [
    {
     "name": "stdout",
     "output_type": "stream",
     "text": [
      "Valore: 0.5\n"
     ]
    }
   ],
   "source": [
    "import sys\n",
    "sys.path.append(\"/work/asc/machine_learning/projects/iMagine/bayes_opt/src/\")\n",
    "from dto.MDK2SimCoordsDTO import MDK2SimCoordsDTO\n",
    "\n",
    "mdk2_sim_coords_service_instance = MDK2SimCoordsDTO(\"/work/asc/machine_learning/projects/iMagine/bayes_opt/src/data_connection/workflow_config.toml\")\n",
    "delta = mdk2_sim_coords_service_instance.get_delta()\n",
    "print(\"Valore:\", delta)"
   ]
  },
  {
   "cell_type": "code",
   "execution_count": 31,
   "metadata": {},
   "outputs": [
    {
     "name": "stdout",
     "output_type": "stream",
     "text": [
      "Valore: 00\n"
     ]
    }
   ],
   "source": [
    "import sys\n",
    "sys.path.append(\"/work/asc/machine_learning/projects/iMagine/bayes_opt/src/\")\n",
    "from dto.MDK2SimDateDTO import MDK2SimDateDTO\n",
    "\n",
    "mdk2_sim_date_service_instance = MDK2SimDateDTO(\"/work/asc/machine_learning/projects/iMagine/bayes_opt/src/data_connection/workflow_config.toml\")\n",
    "minutes = mdk2_sim_date_service_instance.get_minutes()\n",
    "print(\"Valore:\", minutes)"
   ]
  },
  {
   "cell_type": "code",
   "execution_count": 32,
   "metadata": {},
   "outputs": [
    {
     "name": "stdout",
     "output_type": "stream",
     "text": [
      "Valore: 1\n"
     ]
    }
   ],
   "source": [
    "import sys\n",
    "sys.path.append(\"/work/asc/machine_learning/projects/iMagine/bayes_opt/src/\")\n",
    "from dto.MDK2SimExtentDTO import MDK2SimExtentDTO\n",
    "\n",
    "mdk2_sim_extent_service_instance = MDK2SimExtentDTO(\"/work/asc/machine_learning/projects/iMagine/bayes_opt/src/data_connection/workflow_config.toml\")\n",
    "number_slick = mdk2_sim_extent_service_instance.get_number_slick()\n",
    "print(\"Valore:\", number_slick)"
   ]
  },
  {
   "cell_type": "code",
   "execution_count": 34,
   "metadata": {},
   "outputs": [
    {
     "name": "stdout",
     "output_type": "stream",
     "text": [
      "Valore: ['Wind correction (Drift Factor)', 'Wind correction (Drift Angle at zero wind speed)', 'Horizontal Diffusivity']\n"
     ]
    }
   ],
   "source": [
    "import sys\n",
    "sys.path.append(\"/work/asc/machine_learning/projects/iMagine/bayes_opt/src/\")\n",
    "from dto.MDK2SimParamsDTO import MDK2SimParamsDTO\n",
    "\n",
    "mdk2_sim_params_service_instance = MDK2SimParamsDTO(\"/work/asc/machine_learning/projects/iMagine/bayes_opt/src/data_connection/workflow_config.toml\")\n",
    "k = mdk2_sim_params_service_instance.get_k()\n",
    "print(\"Valore:\", k)"
   ]
  },
  {
   "cell_type": "code",
   "execution_count": 1,
   "metadata": {},
   "outputs": [],
   "source": [
    "import sys\n",
    "sys.path.append(\"/work/asc/machine_learning/projects/iMagine/bayes_opt/src/\")\n",
    "from domain.BayOptBounds import BayOptBounds\n",
    "from dto.BayOptBoundsDTO import BayOptBoundsDTO\n",
    "from service.ConfigService import ConfigService\n",
    "\n",
    "config_service_instance = ConfigService(\"/work/asc/machine_learning/projects/iMagine/bayes_opt/src/data_connection/workflow_config.toml\")\n",
    "dto_instance = BayOptBounds(\"/work/asc/machine_learning/projects/iMagine/bayes_opt/src/data_connection/workflow_config.toml\")\n",
    "\n",
    "def new_values():\n",
    "    return [[0.0, 0.07], [0.0, 17.0], [0.0, 27.0]]\n",
    "\n",
    "def mod_b(values):\n",
    "    \n",
    "    config_service_instance.set_config_value('bayesian_optimization.b', values)\n",
    "    \n",
    "#mod_b(new_values())\n",
    "    \n",
    "    \n",
    "    "
   ]
  },
  {
   "cell_type": "code",
   "execution_count": 2,
   "metadata": {},
   "outputs": [],
   "source": [
    "import sys\n",
    "sys.path.append(\"/work/asc/machine_learning/projects/iMagine/bayes_opt/src/\")\n",
    "from dto.BayOptBoundsDTO import BayOptBoundsDTO\n",
    "\n",
    "# Creare un'istanza di Bay_Opt_Bounds_Service\n",
    "bay_opt_bounds_service_instance = BayOptBoundsDTO(\"/work/asc/machine_learning/projects/iMagine/bayes_opt/src/data_connection/workflow_config.toml\")\n",
    "bay_opt_bounds_service_instance.set_b(new_values())"
   ]
  },
  {
   "cell_type": "code",
   "execution_count": 7,
   "metadata": {},
   "outputs": [
    {
     "data": {
      "text/plain": [
       "dict"
      ]
     },
     "execution_count": 7,
     "metadata": {},
     "output_type": "execute_result"
    }
   ],
   "source": [
    "bounds = {\n",
    "    # 'delt':(17,94), non modificabile\n",
    "    'wind_drag' : (0, 0.05),\n",
    "    'wind_angle' : (0, 15), #(-15,15), for northern hemisphere\n",
    "    'horizontal_diff' : (0, 20)\n",
    "}\n",
    "\n",
    "type(bounds)"
   ]
  },
  {
   "cell_type": "code",
   "execution_count": 14,
   "metadata": {},
   "outputs": [
    {
     "name": "stdout",
     "output_type": "stream",
     "text": [
      "dict_keys(['Wind correction (Drift Factor)', 'Wind correction (Drift Angle at zero wind speed)', 'Horizontal Diffusivity'])\n"
     ]
    }
   ],
   "source": [
    "import sys\n",
    "sys.path.append(\"/work/asc/machine_learning/projects/iMagine/bayes_opt/src\")\n",
    "from dto.MDK2SimParamsDTO import MDK2SimParamsDTO\n",
    "\n",
    "mdk2_sim_params_dto_instance = MDK2SimParamsDTO(\"/work/asc/machine_learning/projects/iMagine/bayes_opt/src/data_connection/workflow_config.toml\")\n",
    "\n",
    "def get_sim_params():\n",
    "    \n",
    "    sim_params = dict(zip(mdk2_sim_params_dto_instance.get_k(), mdk2_sim_params_dto_instance.get_v()))\n",
    "    \n",
    "    return sim_params\n",
    "\n",
    "print(get_sim_params().keys())"
   ]
  },
  {
   "cell_type": "code",
   "execution_count": 17,
   "metadata": {},
   "outputs": [
    {
     "name": "stdout",
     "output_type": "stream",
     "text": [
      "{'Wind correction (Drift Factor)': 0.0133, 'Wind correction (Drift Angle at zero wind speed)': 11.6242, 'Horizontal Diffusivity': 15.3642}\n"
     ]
    }
   ],
   "source": [
    "import sys\n",
    "sys.path.append(\"/work/asc/machine_learning/projects/iMagine/bayes_opt/src\")\n",
    "from serviceImpl.MDK2SimParamsServiceImpl import MDK2SimParamsServiceImpl\n",
    "\n",
    "mdk2_sim_params_service_impl_instance = MDK2SimParamsServiceImpl(\"/work/asc/machine_learning/projects/iMagine/bayes_opt/src/data_connection/workflow_config.toml\")\n",
    "\n",
    "sim_params = mdk2_sim_params_service_impl_instance.get_sim_params_impl()\n",
    "\n",
    "print(sim_params)"
   ]
  },
  {
   "cell_type": "code",
   "execution_count": 1,
   "metadata": {},
   "outputs": [
    {
     "name": "stdout",
     "output_type": "stream",
     "text": [
      "{'Wind correction (Drift Factor)': 0.0133, 'Wind correction (Drift Angle at zero wind speed)': 11.6242, 'Horizontal Diffusivity': 15.3642}\n"
     ]
    }
   ],
   "source": [
    "import sys\n",
    "sys.path.append(\"/work/asc/machine_learning/projects/iMagine/bayes_opt/src\")\n",
    "from service.MDK2SimParamsService import MDK2SimParamsService\n",
    "\n",
    "mdk2_sim_params_service_instance = MDK2SimParamsService(\"/work/asc/machine_learning/projects/iMagine/bayes_opt/src/data_connection/workflow_config.toml\")\n",
    "\n",
    "sim_params = mdk2_sim_params_service_instance.get_sim_params()\n",
    "\n",
    "print(sim_params)"
   ]
  },
  {
   "cell_type": "code",
   "execution_count": 5,
   "metadata": {},
   "outputs": [
    {
     "name": "stdout",
     "output_type": "stream",
     "text": [
      "{'Wind correction (Drift Factor)': [0.0, 0.07], 'Wind correction (Drift Angle at zero wind speed)': [0.0, 17.0], 'Horizontal Diffusivity': [0.0, 27.0]}\n"
     ]
    }
   ],
   "source": [
    "import sys\n",
    "sys.path.append(\"/work/asc/machine_learning/projects/iMagine/bayes_opt/src\")\n",
    "from service.BayOptBoundsService import BayOptBoundsService\n",
    "\n",
    "bay_opt_bounds_service_instance = BayOptBoundsService(\"/work/asc/machine_learning/projects/iMagine/bayes_opt/src/data_connection/workflow_config.toml\")\n",
    "\n",
    "parameters_bound = bay_opt_bounds_service_instance.get_parameter_bounds_dict()\n",
    "\n",
    "print(parameters_bound)"
   ]
  },
  {
   "cell_type": "code",
   "execution_count": 5,
   "metadata": {},
   "outputs": [
    {
     "name": "stdout",
     "output_type": "stream",
     "text": [
      "{'SIM_NAME': 'syria', 'sim_length': '0072', 'duration': '0072', 'spillrate': '00138.00', 'age': '0', 'grid_size': '150.0', 'oil_api': 28.0, 'oil_volume': 2000.0, 'number_slick': 1}\n"
     ]
    }
   ],
   "source": [
    "import sys\n",
    "sys.path.append(\"/work/asc/machine_learning/projects/iMagine/bayes_opt/src\")\n",
    "from service.MDK2SimExtentService import MDK2SimExtentService\n",
    "\n",
    "mdk2_sim_extent_service_instance = MDK2SimExtentService(\"/work/asc/machine_learning/projects/iMagine/bayes_opt/src/data_connection/workflow_config.toml\")\n",
    "\n",
    "sim_extent = mdk2_sim_extent_service_instance.get_sim_extent_params_dict()\n",
    "\n",
    "print(sim_extent)"
   ]
  },
  {
   "cell_type": "code",
   "execution_count": 3,
   "metadata": {},
   "outputs": [
    {
     "name": "stdout",
     "output_type": "stream",
     "text": [
      "{'SIM_NAME': 'syria', 'sim_length': '0072', 'duration': '0072', 'spillrate': '00138.00', 'age': '0', 'grid_size': '150.0', 'oil_api': 28.0, 'oil_volume': 2000.0, 'number_slick': 1}\n"
     ]
    }
   ],
   "source": [
    "import sys\n",
    "sys.path.append(\"/work/asc/machine_learning/projects/iMagine/bayes_opt/src\")\n",
    "from service.ConfigService import ConfigService\n",
    "\n",
    "config_instance = ConfigService(\"/work/asc/machine_learning/projects/iMagine/bayes_opt/src/data_connection/workflow_config.toml\")\n",
    "\n",
    "sim_extent = config_instance.get_config_value('medslik2.sim_extent')\n",
    "\n",
    "print(sim_extent)"
   ]
  },
  {
   "cell_type": "code",
   "execution_count": 2,
   "metadata": {},
   "outputs": [
    {
     "name": "stdout",
     "output_type": "stream",
     "text": [
      "{'day': '23', 'month': '08', 'year': '21', 'hour': '10', 'minutes': '00'}\n"
     ]
    }
   ],
   "source": [
    "import sys\n",
    "sys.path.append(\"/work/asc/machine_learning/projects/iMagine/bayes_opt/src\")\n",
    "from service.MDK2SimDateService import MDK2SimDateService\n",
    "\n",
    "instance = MDK2SimDateService(\"/work/asc/machine_learning/projects/iMagine/bayes_opt/src/data_connection/workflow_config.toml\")\n",
    "\n",
    "sim_date = instance.get_sim_date_params_dict()\n",
    "\n",
    "print(sim_date)"
   ]
  },
  {
   "cell_type": "code",
   "execution_count": 3,
   "metadata": {},
   "outputs": [
    {
     "name": "stdout",
     "output_type": "stream",
     "text": [
      "{'lat_degree': 35, 'lat_minutes': 10.356, 'lon_degree': 35, 'lon_minutes': 55.002, 'delta': 0.5}\n"
     ]
    }
   ],
   "source": [
    "import sys\n",
    "sys.path.append(\"/work/asc/machine_learning/projects/iMagine/bayes_opt/src\")\n",
    "from service.MDK2SimCoordsService import MDK2SimCoordsService\n",
    "\n",
    "instance = MDK2SimCoordsService(\"/work/asc/machine_learning/projects/iMagine/bayes_opt/src/data_connection/workflow_config.toml\")\n",
    "\n",
    "sim_coords = instance.get_sim_coords_params_dict()\n",
    "\n",
    "print(sim_coords)"
   ]
  },
  {
   "cell_type": "code",
   "execution_count": 14,
   "metadata": {},
   "outputs": [
    {
     "name": "stdout",
     "output_type": "stream",
     "text": [
      "{'SIM_NAME': 'syria', 'sim_length': '0072', 'duration': '0072', 'spillrate': '00138.00', 'age': '0', 'grid_size': '150.0', 'oil_api': 28.0, 'oil_volume': 2000.0, 'number_slick': 1, 'day': '23', 'month': '08', 'year': '21', 'hour': '10', 'minutes': '00', 'lat_degree': 35, 'lat_minutes': 10.356, 'lon_degree': 35, 'lon_minutes': 55.002, 'delta': 0.5}\n"
     ]
    }
   ],
   "source": [
    "import typing as t\n",
    "\n",
    "config1_params: t.Dict = dict(**sim_extent, **sim_date, **sim_coords)\n",
    "print(config1_params)"
   ]
  },
  {
   "cell_type": "code",
   "execution_count": 2,
   "metadata": {},
   "outputs": [
    {
     "name": "stdout",
     "output_type": "stream",
     "text": [
      "{'No of parcels used to model diffusion and dispersion': 2000}\n"
     ]
    }
   ],
   "source": [
    "import sys\n",
    "sys.path.append(\"/work/asc/machine_learning/projects/iMagine/bayes_opt/src\")\n",
    "from controller.WorkflowController import WorkflowController\n",
    "\n",
    "instance = WorkflowController(\"/work/asc/machine_learning/projects/iMagine/bayes_opt/src/data_connection/workflow_config.toml\")\n",
    "instance.setup(0, )"
   ]
  },
  {
   "cell_type": "code",
   "execution_count": 1,
   "metadata": {},
   "outputs": [
    {
     "name": "stdout",
     "output_type": "stream",
     "text": [
      "{'No of parcels used to model diffusion and dispersion': 2000}\n"
     ]
    }
   ],
   "source": [
    "import sys\n",
    "sys.path.append(\"/work/asc/machine_learning/projects/iMagine/bayes_opt/src\")\n",
    "from service.MDK2SimParamsService import MDK2SimParamsService\n",
    "\n",
    "instance = MDK2SimParamsService(\"/work/asc/machine_learning/projects/iMagine/bayes_opt/src/data_connection/workflow_config.toml\")\n",
    "print(instance.get_sim_params_key_dict())"
   ]
  },
  {
   "cell_type": "code",
   "execution_count": 5,
   "metadata": {},
   "outputs": [
    {
     "data": {
      "text/plain": [
       "dict"
      ]
     },
     "execution_count": 5,
     "metadata": {},
     "output_type": "execute_result"
    }
   ],
   "source": [
    "bounds = {\n",
    "    # 'delt':(17,94), non modificabile\n",
    "    'wind_drag' : (0, 0.05),\n",
    "    'wind_angle' : (0, 15), #(-15,15), for northern hemisphere\n",
    "    'horizontal_diff' : (0, 20)\n",
    "}\n",
    "\n",
    "type(bounds)"
   ]
  },
  {
   "cell_type": "code",
   "execution_count": 5,
   "metadata": {},
   "outputs": [
    {
     "name": "stdout",
     "output_type": "stream",
     "text": [
      "None\n"
     ]
    }
   ],
   "source": [
    "import sys\n",
    "sys.path.append(\"/work/asc/machine_learning/projects/iMagine/bayes_opt/src\")\n",
    "from service.BayOptSetupService import BayOptSetupService\n",
    "\n",
    "instance = BayOptSetupService(\"/work/asc/machine_learning/projects/iMagine/bayes_opt/src/data_connection/workflow_config.toml\")\n",
    "print(instance.get_random_state())"
   ]
  },
  {
   "cell_type": "code",
   "execution_count": 5,
   "metadata": {},
   "outputs": [
    {
     "name": "stdout",
     "output_type": "stream",
     "text": [
      "/work/asc/machine_learning/projects/iMagine/bayes_opt/simulation/Medslik-II/MEDSLIK_II_3.01/RUN/config2.txt\n"
     ]
    }
   ],
   "source": [
    "import sys\n",
    "sys.path.append(\"/work/asc/machine_learning/projects/iMagine/bayes_opt/src\")\n",
    "from service.PathService import PathService\n",
    "\n",
    "instance = PathService(\"/work/asc/machine_learning/projects/iMagine/bayes_opt/src/data_connection/workflow_config.toml\")\n",
    "print(instance.get_CONFIG2_path())\n",
    "#/work/asc/machine_learning/projects/iMagine/bayes_opt/simulation/Medslik-II/MEDSLIK_II_3.01/RUN/config2.txt"
   ]
  },
  {
   "cell_type": "code",
   "execution_count": 8,
   "metadata": {},
   "outputs": [],
   "source": [
    "import re\n",
    "\n",
    "import sys\n",
    "sys.path.append(\"/work/asc/machine_learning/projects/iMagine/bayes_opt/src\")\n",
    "from exception.UpdateConfigException import UpdateConfigException\n",
    "from service.MDK2SimParamsService import MDK2SimParamsService\n",
    "\n",
    "update_config_exception_instance = UpdateConfigException()\n",
    "\n",
    "mdk2_sim_params_service_instance = MDK2SimParamsService(\"/work/asc/machine_learning/projects/iMagine/bayes_opt/src/data_connection/workflow_config.toml\")\n",
    "\n",
    "\n",
    "def update_config2_impl(config_dict, src, dst, dec_precision):\n",
    "    try:\n",
    "        with open(dst, 'w') as config2:\n",
    "            with open(src, 'r') as f:\n",
    "\n",
    "                for i,line in enumerate(f.readlines()):\n",
    "                    splitted_line = line.split(' ')\n",
    "\n",
    "                    if splitted_line[0].replace('.','',1).isdigit():\n",
    "                        nspaces = re.findall(r'\\s+', line)\n",
    "                        cnt = 0 \n",
    "\n",
    "                        for k,v in config_dict.items():\n",
    "                            #print(k, v, type(v))\n",
    "                            if (k in line) & (cnt == 0):\n",
    "                                #new_line = f\"{v:.{dec_precision}f}{nspaces[0]}{k}\\n\"\n",
    "                                #new_line = f'{round(v, int(dec_precision))}{nspaces[0]}{k}\\n'\n",
    "                                new_line = f'{round(float(v), int(dec_precision))}{nspaces[0]}{k}\\n'\n",
    "                                config2.write(new_line)\n",
    "                                cnt += 1\n",
    "                            \n",
    "                        if(cnt == 0):\n",
    "                            config2.write(line)\n",
    "                    else:\n",
    "                        config2.write(line)\n",
    "            f.close()\n",
    "        config2.close()\n",
    "        \n",
    "    except Exception as e:\n",
    "        raise UpdateConfigException(f\"Errore durante l'aggiornamento della configurazione: {str(e)}\")"
   ]
  },
  {
   "cell_type": "code",
   "execution_count": 9,
   "metadata": {},
   "outputs": [],
   "source": [
    "import numpy as np\n",
    "\n",
    "import sys\n",
    "sys.path.append(\"/work/asc/machine_learning/projects/iMagine/bayes_opt/src\")\n",
    "from service.BayOptSetupService import BayOptSetupService\n",
    "from service.MDK2SimParamsService import MDK2SimParamsService\n",
    "from controller.PathController import PathController\n",
    "\n",
    "bay_opt_setup_service_instance = BayOptSetupService(\"/work/asc/machine_learning/projects/iMagine/bayes_opt/src/data_connection/workflow_config.toml\")\n",
    "mdk2_sim_params_service_instance = MDK2SimParamsService(\"/work/asc/machine_learning/projects/iMagine/bayes_opt/src/data_connection/workflow_config.toml\")\n",
    "path_controller_instance = PathController(\"/work/asc/machine_learning/projects/iMagine/bayes_opt/src/data_connection/workflow_config.toml\")\n",
    "\n",
    "decimal_precision = bay_opt_setup_service_instance.get_decimal_precision()\n",
    "sim_params = mdk2_sim_params_service_instance.get_sim_params_dict()\n",
    "params = mdk2_sim_params_service_instance.get_sim_params_kv_dict()\n",
    "\n",
    "#print(params)\n",
    "#print(params.items())\n",
    "kwargs = {k:round(np.float32(v), decimal_precision) for k,v in params.items()}\n",
    "\n",
    "update_config2_impl(kwargs, src=path_controller_instance.get_CONFIG2_TEMPLATE(), dst=path_controller_instance.get_CONFIG2(), dec_precision=decimal_precision)"
   ]
  },
  {
   "cell_type": "code",
   "execution_count": 1,
   "metadata": {},
   "outputs": [
    {
     "name": "stdout",
     "output_type": "stream",
     "text": [
      "/work/asc/machine_learning/projects/iMagine/bayes_opt/use_case_observations/syria/observations_2021_08_23_1000\n"
     ]
    }
   ],
   "source": [
    "import sys\n",
    "sys.path.append(\"/work/asc/machine_learning/projects/iMagine/bayes_opt/src\")\n",
    "from controller.PathController import PathController\n",
    "\n",
    "path_controller_instance = PathController()\n",
    "\n",
    "print(path_controller_instance.get_OBS())"
   ]
  },
  {
   "cell_type": "code",
   "execution_count": 1,
   "metadata": {},
   "outputs": [],
   "source": [
    "import sys\n",
    "sys.path.append(\"/work/asc/machine_learning/projects/iMagine/bayes_opt/src\")\n",
    "from service.BayOptBoundsService import BayOptBoundsService\n",
    "from service.BayOptSetupService import BayOptSetupService\n",
    "from service.MDK2SimParamsService import MDK2SimParamsService\n",
    "\n",
    "from controller.WorkflowController import WorkflowController\n",
    "from service.MetricsService import MetricsService"
   ]
  },
  {
   "cell_type": "code",
   "execution_count": 2,
   "metadata": {},
   "outputs": [],
   "source": [
    "import numpy as np\n",
    "\n",
    "bay_opt_bounds_service_instance = BayOptBoundsService(\"/work/asc/machine_learning/projects/iMagine/bayes_opt/src/data_connection/workflow_config.toml\")\n",
    "bay_opt_setup_service_instance = BayOptSetupService(\"/work/asc/machine_learning/projects/iMagine/bayes_opt/src/data_connection/workflow_config.toml\")\n",
    "mdk2_sim_params_service_instance = MDK2SimParamsService(\"/work/asc/machine_learning/projects/iMagine/bayes_opt/src/data_connection/workflow_config.toml\")\n",
    "\n",
    "workflow_controller_instance = WorkflowController(\"/work/asc/machine_learning/projects/iMagine/bayes_opt/src/data_connection/workflow_config.toml\")\n",
    "fss_service_instance = MetricsService(\"/work/asc/machine_learning/projects/iMagine/bayes_opt/src/data_connection/workflow_config.toml\")\n",
    "\n",
    "sim_params = mdk2_sim_params_service_instance.get_sim_params_dict()\n",
    "nparticles = mdk2_sim_params_service_instance.get_vparticles()\n",
    "parameters_bound = bay_opt_bounds_service_instance.get_parameter_bounds_dict()\n",
    "random_state = None if bay_opt_setup_service_instance.get_random_state() == 'None' else int(bay_opt_setup_service_instance.get_random_state())\n",
    "verbose = bay_opt_setup_service_instance.get_verbose()\n",
    "params = mdk2_sim_params_service_instance.get_sim_params_kv_dict()\n",
    "params_value = np.array(list(params.values()))\n",
    "\n",
    "#print(params.values())"
   ]
  },
  {
   "cell_type": "code",
   "execution_count": 3,
   "metadata": {},
   "outputs": [],
   "source": [
    "def check_parameters_match(sim_params, parameters_bound):\n",
    "    if sorted(sim_params) != sorted(parameters_bound):\n",
    "        raise ValueError('A mismatch between Medslik-II and the Bayesian Optimization configuration parameters was encountered in the config file.')\n",
    "    \n",
    "def check_particles_number(nparticles):\n",
    "    if nparticles <= 571:\n",
    "        raise ValueError('Increase the number of simulated particles')\n",
    "    \n",
    "#def check_execution_type(execution_type):\n",
    "#    execution_values = set(member.value for member in ExecutionType)\n",
    "\n",
    "#    if execution_type not in execution_values:\n",
    "#        raise ValueError(\"Il valore specificato non è tra i valori validi di ExecutionType\")"
   ]
  },
  {
   "cell_type": "code",
   "execution_count": 4,
   "metadata": {},
   "outputs": [],
   "source": [
    "import netCDF4\n",
    "import numpy as np\n",
    "\n",
    "def get_surface_parcels(fname,time_index):\n",
    "\n",
    "    f = netCDF4.Dataset(fname)\n",
    "    \n",
    "    lat = np.longdouble(f.variables['latitude'][time_index,:])\n",
    "    lon = np.longdouble(f.variables['longitude'][time_index,:])\n",
    "    \n",
    "    return lat, lon\n",
    "\n",
    "def find_nearest(array, value):\n",
    "    array = np.asarray(array)\n",
    "    idx = (np.abs(array - value)).argmin()\n",
    "    return idx"
   ]
  },
  {
   "cell_type": "code",
   "execution_count": 4,
   "metadata": {},
   "outputs": [
    {
     "name": "stdout",
     "output_type": "stream",
     "text": [
      " \n",
      " \n",
      "> Gather and process OCE and MET fields for the oil spill ...\n",
      "> Compile MEDSLIK-II (v3.01) ...\n",
      "| iter                 | target               | Horizontal Diffusivi | Wind correction (Dri | Wind correction (Dri |\n",
      "--------------------------------------------------------------------------------------------------------------------\n",
      "| \u001b[0m1                   \u001b[0m | \u001b[0m0.3239              \u001b[0m | \u001b[0m2.0                 \u001b[0m | \u001b[0m0.0                 \u001b[0m | \u001b[0m0.03                \u001b[0m |\n",
      "| \u001b[95m2                   \u001b[0m | \u001b[95m0.5147              \u001b[0m | \u001b[95m1.605               \u001b[0m | \u001b[95m2.279               \u001b[0m | \u001b[95m0.02412             \u001b[0m |\n",
      "| \u001b[0m3                   \u001b[0m | \u001b[0m0.3179              \u001b[0m | \u001b[0m6.119               \u001b[0m | \u001b[0m5.467               \u001b[0m | \u001b[0m0.0126              \u001b[0m |\n",
      "| \u001b[0m4                   \u001b[0m | \u001b[0m0.1565              \u001b[0m | \u001b[0m13.55               \u001b[0m | \u001b[0m13.21               \u001b[0m | \u001b[0m0.02657             \u001b[0m |\n",
      "| \u001b[0m5                   \u001b[0m | \u001b[0m0.3095              \u001b[0m | \u001b[0m3.673               \u001b[0m | \u001b[0m7.192               \u001b[0m | \u001b[0m0.009532            \u001b[0m |\n",
      "| \u001b[0m6                   \u001b[0m | \u001b[0m0.1517              \u001b[0m | \u001b[0m19.67               \u001b[0m | \u001b[0m5.78                \u001b[0m | \u001b[0m0.02296             \u001b[0m |\n",
      "| \u001b[0m7                   \u001b[0m | \u001b[0m0.2505              \u001b[0m | \u001b[0m15.35               \u001b[0m | \u001b[0m7.505               \u001b[0m | \u001b[0m0.02173             \u001b[0m |\n",
      "| \u001b[95m8                   \u001b[0m | \u001b[95m0.7027              \u001b[0m | \u001b[95m0.5281              \u001b[0m | \u001b[95m10.48               \u001b[0m | \u001b[95m0.00966             \u001b[0m |\n",
      "| \u001b[0m9                   \u001b[0m | \u001b[0m0.2226              \u001b[0m | \u001b[0m13.2                \u001b[0m | \u001b[0m5.725               \u001b[0m | \u001b[0m0.02218             \u001b[0m |\n",
      "| \u001b[0m10                  \u001b[0m | \u001b[0m0.2501              \u001b[0m | \u001b[0m11.87               \u001b[0m | \u001b[0m10.32               \u001b[0m | \u001b[0m0.01493             \u001b[0m |\n",
      "| \u001b[0m11                  \u001b[0m | \u001b[0m0.5352              \u001b[0m | \u001b[0m1.205               \u001b[0m | \u001b[0m6.927               \u001b[0m | \u001b[0m0.02436             \u001b[0m |\n",
      "| \u001b[0m12                  \u001b[0m | \u001b[0m0.1643              \u001b[0m | \u001b[0m9.436               \u001b[0m | \u001b[0m0.9665              \u001b[0m | \u001b[0m0.0434              \u001b[0m |\n",
      "| \u001b[0m13                  \u001b[0m | \u001b[0m0.1683              \u001b[0m | \u001b[0m6.368               \u001b[0m | \u001b[0m1.764               \u001b[0m | \u001b[0m0.04713             \u001b[0m |\n",
      "| \u001b[0m14                  \u001b[0m | \u001b[0m0.3216              \u001b[0m | \u001b[0m5.681               \u001b[0m | \u001b[0m6.882               \u001b[0m | \u001b[0m0.01689             \u001b[0m |\n",
      "| \u001b[0m15                  \u001b[0m | \u001b[0m0.1755              \u001b[0m | \u001b[0m11.27               \u001b[0m | \u001b[0m0.7455              \u001b[0m | \u001b[0m0.03934             \u001b[0m |\n",
      "| \u001b[0m16                  \u001b[0m | \u001b[0m0.161               \u001b[0m | \u001b[0m14.91               \u001b[0m | \u001b[0m3.772               \u001b[0m | \u001b[0m0.04235             \u001b[0m |\n",
      "====================================================================================================================\n"
     ]
    }
   ],
   "source": [
    "import warnings\n",
    "warnings.filterwarnings('ignore')\n",
    "\n",
    "import sys\n",
    "sys.path.append(\"/work/asc/machine_learning/projects/iMagine/bayes_opt\")\n",
    "\n",
    "from src.controller.PathController import PathController\n",
    "from compute_fss.test_compute_fss_lib import get_mdksim_date, get_obs_date, get_lonlat_minmax\n",
    "\n",
    "path_controller_instance = PathController(\"/work/asc/machine_learning/projects/iMagine/bayes_opt/src/data_connection/workflow_config.toml\")\n",
    "#print(path_controller_instance.get_MEDSLIK_OUT_DIR())\n",
    "#fname = path_controller_instance.get_MEDSLIK_OUT_DIR() + '/spill_properties.nc'\n",
    "\n",
    "#simulation_date = get_mdksim_date(path_controller_instance.get_MEDSLIK_OUT_DIR())\n",
    "#observation_date = get_obs_date(\"/work/asc/machine_learning/projects/iMagine/bayes_opt/use_case_observations/syria/observations/20210824-0343-SYR-PL-B-01-S1\")\n",
    "\n",
    "#time_index = find_nearest(simulation_date, observation_date)\n",
    "\n",
    "#lons_f, lats_f = get_surface_parcels(fname, time_index)\n",
    "#lonmin, latmin, lonmax, latmax = get_lonlat_minmax(lons_f, lats_f)\n",
    "\n",
    "#print(\"lons_f:\", lons_f)\n",
    "#print(\"lats_f\", lats_f)\n",
    "\n",
    "#print(\"min:\", lonmin, latmin)\n",
    "#print(\"max:\", lonmax, latmax)\n",
    "\n",
    "if not check_parameters_match(sim_params.keys(), parameters_bound.keys()):\n",
    "        print(' ')\n",
    "\n",
    "if not check_particles_number(nparticles):\n",
    "        print(' ')\n",
    "        \n",
    "#try:\n",
    "#        check_execution_type(args.mode)\n",
    "#except ValueError as e:\n",
    "#        print(f\"Errore: {e}\")\n",
    "#        enum_values = {name: member.value for name, member in ExecutionType.__members__.items()}\n",
    "#        raise WrongConfigurationException(f\"Le modalità accettate sono: {enum_values}\")\n",
    "workflow_controller_instance.check_execution_type(0)\n",
    "workflow_controller_instance.setup(0)\n",
    "workflow_controller_instance.run(0, parameters_bound, random_state, verbose)\n",
    "#fss_service_instance.compute_fss()"
   ]
  },
  {
   "cell_type": "code",
   "execution_count": 6,
   "metadata": {},
   "outputs": [
    {
     "name": "stdout",
     "output_type": "stream",
     "text": [
      "738025.4166666666\n",
      "lons_f: []\n",
      "lats_f: []\n",
      "CIAO2\n",
      "Si è verificato un errore: zero-size array to reduction operation minimum which has no identity\n"
     ]
    }
   ],
   "source": [
    "import sys\n",
    "sys.path.append(\"/work/asc/machine_learning/projects/iMagine/bayes_opt/src\")\n",
    "\n",
    "from service.MetricsService import MetricsService\n",
    "\n",
    "instance = MetricsService(\"/work/asc/machine_learning/projects/iMagine/bayes_opt/src/data_connection/workflow_config.toml\")\n",
    "\n",
    "instance.compute_fss()"
   ]
  },
  {
   "cell_type": "code",
   "execution_count": 11,
   "metadata": {},
   "outputs": [
    {
     "name": "stdout",
     "output_type": "stream",
     "text": [
      "CIAO2\n",
      "print: 35.17259979248046875 35.86725616455078125 35.462154388427734375 35.95107269287109375\n",
      "lat: 35.17259979248046875 35.86725616455078125\n",
      "lon: 35.462154388427734375 35.95107269287109375\n"
     ]
    }
   ],
   "source": [
    "import os\n",
    "\n",
    "import sys\n",
    "sys.path.append(\"/work/asc/machine_learning/projects/iMagine/bayes_opt\")\n",
    "\n",
    "from src.controller.PathController import PathController\n",
    "from compute_fss.test_compute_fss_lib import get_mdksim_date, get_obs_date, get_lonlat_minmax\n",
    "\n",
    "path_controller_instance = PathController(\"/work/asc/machine_learning/projects/iMagine/bayes_opt/src/data_connection/workflow_config.toml\")\n",
    "#print(path_controller_instance.get_MEDSLIK_OUT_DIR())\n",
    "fname = path_controller_instance.get_MEDSLIK_OUT_DIR() + '/spill_properties.nc'\n",
    "\n",
    "simulation_date = get_mdksim_date(path_controller_instance.get_MEDSLIK_OUT_DIR())\n",
    "observation_date = get_obs_date(\"/work/asc/machine_learning/projects/iMagine/bayes_opt/use_case_observations/syria/observations/20210824-0343-SYR-PL-B-01-S1\")\n",
    "\n",
    "time_index = find_nearest(simulation_date, observation_date)\n",
    "\n",
    "lons_f, lats_f = get_surface_parcels(fname, time_index)\n",
    "lonmin, latmin, lonmax, latmax = get_lonlat_minmax(lons_f, lats_f)\n",
    "\n",
    "print(\"lat:\", lonmin, latmin)\n",
    "print(\"lon:\", lonmax, latmax)"
   ]
  },
  {
   "cell_type": "code",
   "execution_count": 4,
   "metadata": {},
   "outputs": [
    {
     "data": {
      "text/html": [
       "<div><svg style=\"position: absolute; width: 0; height: 0; overflow: hidden\">\n",
       "<defs>\n",
       "<symbol id=\"icon-database\" viewBox=\"0 0 32 32\">\n",
       "<path d=\"M16 0c-8.837 0-16 2.239-16 5v4c0 2.761 7.163 5 16 5s16-2.239 16-5v-4c0-2.761-7.163-5-16-5z\"></path>\n",
       "<path d=\"M16 17c-8.837 0-16-2.239-16-5v6c0 2.761 7.163 5 16 5s16-2.239 16-5v-6c0 2.761-7.163 5-16 5z\"></path>\n",
       "<path d=\"M16 26c-8.837 0-16-2.239-16-5v6c0 2.761 7.163 5 16 5s16-2.239 16-5v-6c0 2.761-7.163 5-16 5z\"></path>\n",
       "</symbol>\n",
       "<symbol id=\"icon-file-text2\" viewBox=\"0 0 32 32\">\n",
       "<path d=\"M28.681 7.159c-0.694-0.947-1.662-2.053-2.724-3.116s-2.169-2.030-3.116-2.724c-1.612-1.182-2.393-1.319-2.841-1.319h-15.5c-1.378 0-2.5 1.121-2.5 2.5v27c0 1.378 1.122 2.5 2.5 2.5h23c1.378 0 2.5-1.122 2.5-2.5v-19.5c0-0.448-0.137-1.23-1.319-2.841zM24.543 5.457c0.959 0.959 1.712 1.825 2.268 2.543h-4.811v-4.811c0.718 0.556 1.584 1.309 2.543 2.268zM28 29.5c0 0.271-0.229 0.5-0.5 0.5h-23c-0.271 0-0.5-0.229-0.5-0.5v-27c0-0.271 0.229-0.5 0.5-0.5 0 0 15.499-0 15.5 0v7c0 0.552 0.448 1 1 1h7v19.5z\"></path>\n",
       "<path d=\"M23 26h-14c-0.552 0-1-0.448-1-1s0.448-1 1-1h14c0.552 0 1 0.448 1 1s-0.448 1-1 1z\"></path>\n",
       "<path d=\"M23 22h-14c-0.552 0-1-0.448-1-1s0.448-1 1-1h14c0.552 0 1 0.448 1 1s-0.448 1-1 1z\"></path>\n",
       "<path d=\"M23 18h-14c-0.552 0-1-0.448-1-1s0.448-1 1-1h14c0.552 0 1 0.448 1 1s-0.448 1-1 1z\"></path>\n",
       "</symbol>\n",
       "</defs>\n",
       "</svg>\n",
       "<style>/* CSS stylesheet for displaying xarray objects in jupyterlab.\n",
       " *\n",
       " */\n",
       "\n",
       ":root {\n",
       "  --xr-font-color0: var(--jp-content-font-color0, rgba(0, 0, 0, 1));\n",
       "  --xr-font-color2: var(--jp-content-font-color2, rgba(0, 0, 0, 0.54));\n",
       "  --xr-font-color3: var(--jp-content-font-color3, rgba(0, 0, 0, 0.38));\n",
       "  --xr-border-color: var(--jp-border-color2, #e0e0e0);\n",
       "  --xr-disabled-color: var(--jp-layout-color3, #bdbdbd);\n",
       "  --xr-background-color: var(--jp-layout-color0, white);\n",
       "  --xr-background-color-row-even: var(--jp-layout-color1, white);\n",
       "  --xr-background-color-row-odd: var(--jp-layout-color2, #eeeeee);\n",
       "}\n",
       "\n",
       "html[theme=dark],\n",
       "body[data-theme=dark],\n",
       "body.vscode-dark {\n",
       "  --xr-font-color0: rgba(255, 255, 255, 1);\n",
       "  --xr-font-color2: rgba(255, 255, 255, 0.54);\n",
       "  --xr-font-color3: rgba(255, 255, 255, 0.38);\n",
       "  --xr-border-color: #1F1F1F;\n",
       "  --xr-disabled-color: #515151;\n",
       "  --xr-background-color: #111111;\n",
       "  --xr-background-color-row-even: #111111;\n",
       "  --xr-background-color-row-odd: #313131;\n",
       "}\n",
       "\n",
       ".xr-wrap {\n",
       "  display: block !important;\n",
       "  min-width: 300px;\n",
       "  max-width: 700px;\n",
       "}\n",
       "\n",
       ".xr-text-repr-fallback {\n",
       "  /* fallback to plain text repr when CSS is not injected (untrusted notebook) */\n",
       "  display: none;\n",
       "}\n",
       "\n",
       ".xr-header {\n",
       "  padding-top: 6px;\n",
       "  padding-bottom: 6px;\n",
       "  margin-bottom: 4px;\n",
       "  border-bottom: solid 1px var(--xr-border-color);\n",
       "}\n",
       "\n",
       ".xr-header > div,\n",
       ".xr-header > ul {\n",
       "  display: inline;\n",
       "  margin-top: 0;\n",
       "  margin-bottom: 0;\n",
       "}\n",
       "\n",
       ".xr-obj-type,\n",
       ".xr-array-name {\n",
       "  margin-left: 2px;\n",
       "  margin-right: 10px;\n",
       "}\n",
       "\n",
       ".xr-obj-type {\n",
       "  color: var(--xr-font-color2);\n",
       "}\n",
       "\n",
       ".xr-sections {\n",
       "  padding-left: 0 !important;\n",
       "  display: grid;\n",
       "  grid-template-columns: 150px auto auto 1fr 20px 20px;\n",
       "}\n",
       "\n",
       ".xr-section-item {\n",
       "  display: contents;\n",
       "}\n",
       "\n",
       ".xr-section-item input {\n",
       "  display: none;\n",
       "}\n",
       "\n",
       ".xr-section-item input + label {\n",
       "  color: var(--xr-disabled-color);\n",
       "}\n",
       "\n",
       ".xr-section-item input:enabled + label {\n",
       "  cursor: pointer;\n",
       "  color: var(--xr-font-color2);\n",
       "}\n",
       "\n",
       ".xr-section-item input:enabled + label:hover {\n",
       "  color: var(--xr-font-color0);\n",
       "}\n",
       "\n",
       ".xr-section-summary {\n",
       "  grid-column: 1;\n",
       "  color: var(--xr-font-color2);\n",
       "  font-weight: 500;\n",
       "}\n",
       "\n",
       ".xr-section-summary > span {\n",
       "  display: inline-block;\n",
       "  padding-left: 0.5em;\n",
       "}\n",
       "\n",
       ".xr-section-summary-in:disabled + label {\n",
       "  color: var(--xr-font-color2);\n",
       "}\n",
       "\n",
       ".xr-section-summary-in + label:before {\n",
       "  display: inline-block;\n",
       "  content: '►';\n",
       "  font-size: 11px;\n",
       "  width: 15px;\n",
       "  text-align: center;\n",
       "}\n",
       "\n",
       ".xr-section-summary-in:disabled + label:before {\n",
       "  color: var(--xr-disabled-color);\n",
       "}\n",
       "\n",
       ".xr-section-summary-in:checked + label:before {\n",
       "  content: '▼';\n",
       "}\n",
       "\n",
       ".xr-section-summary-in:checked + label > span {\n",
       "  display: none;\n",
       "}\n",
       "\n",
       ".xr-section-summary,\n",
       ".xr-section-inline-details {\n",
       "  padding-top: 4px;\n",
       "  padding-bottom: 4px;\n",
       "}\n",
       "\n",
       ".xr-section-inline-details {\n",
       "  grid-column: 2 / -1;\n",
       "}\n",
       "\n",
       ".xr-section-details {\n",
       "  display: none;\n",
       "  grid-column: 1 / -1;\n",
       "  margin-bottom: 5px;\n",
       "}\n",
       "\n",
       ".xr-section-summary-in:checked ~ .xr-section-details {\n",
       "  display: contents;\n",
       "}\n",
       "\n",
       ".xr-array-wrap {\n",
       "  grid-column: 1 / -1;\n",
       "  display: grid;\n",
       "  grid-template-columns: 20px auto;\n",
       "}\n",
       "\n",
       ".xr-array-wrap > label {\n",
       "  grid-column: 1;\n",
       "  vertical-align: top;\n",
       "}\n",
       "\n",
       ".xr-preview {\n",
       "  color: var(--xr-font-color3);\n",
       "}\n",
       "\n",
       ".xr-array-preview,\n",
       ".xr-array-data {\n",
       "  padding: 0 5px !important;\n",
       "  grid-column: 2;\n",
       "}\n",
       "\n",
       ".xr-array-data,\n",
       ".xr-array-in:checked ~ .xr-array-preview {\n",
       "  display: none;\n",
       "}\n",
       "\n",
       ".xr-array-in:checked ~ .xr-array-data,\n",
       ".xr-array-preview {\n",
       "  display: inline-block;\n",
       "}\n",
       "\n",
       ".xr-dim-list {\n",
       "  display: inline-block !important;\n",
       "  list-style: none;\n",
       "  padding: 0 !important;\n",
       "  margin: 0;\n",
       "}\n",
       "\n",
       ".xr-dim-list li {\n",
       "  display: inline-block;\n",
       "  padding: 0;\n",
       "  margin: 0;\n",
       "}\n",
       "\n",
       ".xr-dim-list:before {\n",
       "  content: '(';\n",
       "}\n",
       "\n",
       ".xr-dim-list:after {\n",
       "  content: ')';\n",
       "}\n",
       "\n",
       ".xr-dim-list li:not(:last-child):after {\n",
       "  content: ',';\n",
       "  padding-right: 5px;\n",
       "}\n",
       "\n",
       ".xr-has-index {\n",
       "  font-weight: bold;\n",
       "}\n",
       "\n",
       ".xr-var-list,\n",
       ".xr-var-item {\n",
       "  display: contents;\n",
       "}\n",
       "\n",
       ".xr-var-item > div,\n",
       ".xr-var-item label,\n",
       ".xr-var-item > .xr-var-name span {\n",
       "  background-color: var(--xr-background-color-row-even);\n",
       "  margin-bottom: 0;\n",
       "}\n",
       "\n",
       ".xr-var-item > .xr-var-name:hover span {\n",
       "  padding-right: 5px;\n",
       "}\n",
       "\n",
       ".xr-var-list > li:nth-child(odd) > div,\n",
       ".xr-var-list > li:nth-child(odd) > label,\n",
       ".xr-var-list > li:nth-child(odd) > .xr-var-name span {\n",
       "  background-color: var(--xr-background-color-row-odd);\n",
       "}\n",
       "\n",
       ".xr-var-name {\n",
       "  grid-column: 1;\n",
       "}\n",
       "\n",
       ".xr-var-dims {\n",
       "  grid-column: 2;\n",
       "}\n",
       "\n",
       ".xr-var-dtype {\n",
       "  grid-column: 3;\n",
       "  text-align: right;\n",
       "  color: var(--xr-font-color2);\n",
       "}\n",
       "\n",
       ".xr-var-preview {\n",
       "  grid-column: 4;\n",
       "}\n",
       "\n",
       ".xr-index-preview {\n",
       "  grid-column: 2 / 5;\n",
       "  color: var(--xr-font-color2);\n",
       "}\n",
       "\n",
       ".xr-var-name,\n",
       ".xr-var-dims,\n",
       ".xr-var-dtype,\n",
       ".xr-preview,\n",
       ".xr-attrs dt {\n",
       "  white-space: nowrap;\n",
       "  overflow: hidden;\n",
       "  text-overflow: ellipsis;\n",
       "  padding-right: 10px;\n",
       "}\n",
       "\n",
       ".xr-var-name:hover,\n",
       ".xr-var-dims:hover,\n",
       ".xr-var-dtype:hover,\n",
       ".xr-attrs dt:hover {\n",
       "  overflow: visible;\n",
       "  width: auto;\n",
       "  z-index: 1;\n",
       "}\n",
       "\n",
       ".xr-var-attrs,\n",
       ".xr-var-data,\n",
       ".xr-index-data {\n",
       "  display: none;\n",
       "  background-color: var(--xr-background-color) !important;\n",
       "  padding-bottom: 5px !important;\n",
       "}\n",
       "\n",
       ".xr-var-attrs-in:checked ~ .xr-var-attrs,\n",
       ".xr-var-data-in:checked ~ .xr-var-data,\n",
       ".xr-index-data-in:checked ~ .xr-index-data {\n",
       "  display: block;\n",
       "}\n",
       "\n",
       ".xr-var-data > table {\n",
       "  float: right;\n",
       "}\n",
       "\n",
       ".xr-var-name span,\n",
       ".xr-var-data,\n",
       ".xr-index-name div,\n",
       ".xr-index-data,\n",
       ".xr-attrs {\n",
       "  padding-left: 25px !important;\n",
       "}\n",
       "\n",
       ".xr-attrs,\n",
       ".xr-var-attrs,\n",
       ".xr-var-data,\n",
       ".xr-index-data {\n",
       "  grid-column: 1 / -1;\n",
       "}\n",
       "\n",
       "dl.xr-attrs {\n",
       "  padding: 0;\n",
       "  margin: 0;\n",
       "  display: grid;\n",
       "  grid-template-columns: 125px auto;\n",
       "}\n",
       "\n",
       ".xr-attrs dt,\n",
       ".xr-attrs dd {\n",
       "  padding: 0;\n",
       "  margin: 0;\n",
       "  float: left;\n",
       "  padding-right: 10px;\n",
       "  width: auto;\n",
       "}\n",
       "\n",
       ".xr-attrs dt {\n",
       "  font-weight: normal;\n",
       "  grid-column: 1;\n",
       "}\n",
       "\n",
       ".xr-attrs dt:hover span {\n",
       "  display: inline-block;\n",
       "  background: var(--xr-background-color);\n",
       "  padding-right: 10px;\n",
       "}\n",
       "\n",
       ".xr-attrs dd {\n",
       "  grid-column: 2;\n",
       "  white-space: pre-wrap;\n",
       "  word-break: break-all;\n",
       "}\n",
       "\n",
       ".xr-icon-database,\n",
       ".xr-icon-file-text2,\n",
       ".xr-no-icon {\n",
       "  display: inline-block;\n",
       "  vertical-align: middle;\n",
       "  width: 1em;\n",
       "  height: 1.5em !important;\n",
       "  stroke-width: 0;\n",
       "  stroke: currentColor;\n",
       "  fill: currentColor;\n",
       "}\n",
       "</style><pre class='xr-text-repr-fallback'>&lt;xarray.Dataset&gt;\n",
       "Dimensions:                 (time: 72, parcel_id: 577)\n",
       "Coordinates:\n",
       "  * time                    (time) timedelta64[ns] 01:00:00 ... 3 days 00:00:00\n",
       "Dimensions without coordinates: parcel_id\n",
       "Data variables: (12/17)\n",
       "    latitude                (time, parcel_id) float32 ...\n",
       "    longitude               (time, parcel_id) float32 ...\n",
       "    evaporative_volume      (time, parcel_id) float32 ...\n",
       "    non_evaporative_volume  (time, parcel_id) float32 ...\n",
       "    water_fraction          (time, parcel_id) float32 ...\n",
       "    particle_status         (time, parcel_id) float32 ...\n",
       "    ...                      ...\n",
       "    viscosity_oil_2         (time) float32 ...\n",
       "    density_emulsion_1      (time) float32 ...\n",
       "    density_emulsion_2      (time) float32 ...\n",
       "    water_fraction_1        (time) float32 ...\n",
       "    water_fraction_2        (time) float32 ...\n",
       "    volume_ratio            (time) float32 ...</pre><div class='xr-wrap' style='display:none'><div class='xr-header'><div class='xr-obj-type'>xarray.Dataset</div></div><ul class='xr-sections'><li class='xr-section-item'><input id='section-1112a705-1120-4d04-8000-cd91abdcbef6' class='xr-section-summary-in' type='checkbox' disabled ><label for='section-1112a705-1120-4d04-8000-cd91abdcbef6' class='xr-section-summary'  title='Expand/collapse section'>Dimensions:</label><div class='xr-section-inline-details'><ul class='xr-dim-list'><li><span class='xr-has-index'>time</span>: 72</li><li><span>parcel_id</span>: 577</li></ul></div><div class='xr-section-details'></div></li><li class='xr-section-item'><input id='section-7ec41ed7-d1b4-4980-a5bf-9e82c7f3b3d3' class='xr-section-summary-in' type='checkbox'  checked><label for='section-7ec41ed7-d1b4-4980-a5bf-9e82c7f3b3d3' class='xr-section-summary' >Coordinates: <span>(1)</span></label><div class='xr-section-inline-details'></div><div class='xr-section-details'><ul class='xr-var-list'><li class='xr-var-item'><div class='xr-var-name'><span class='xr-has-index'>time</span></div><div class='xr-var-dims'>(time)</div><div class='xr-var-dtype'>timedelta64[ns]</div><div class='xr-var-preview xr-preview'>01:00:00 ... 3 days 00:00:00</div><input id='attrs-36d8cb96-18bd-48ce-971b-528d33c2b7a9' class='xr-var-attrs-in' type='checkbox' disabled><label for='attrs-36d8cb96-18bd-48ce-971b-528d33c2b7a9' title='Show/Hide attributes'><svg class='icon xr-icon-file-text2'><use xlink:href='#icon-file-text2'></use></svg></label><input id='data-3e4fdb11-7eb6-46a2-ac47-1c3ec56608aa' class='xr-var-data-in' type='checkbox'><label for='data-3e4fdb11-7eb6-46a2-ac47-1c3ec56608aa' title='Show/Hide data repr'><svg class='icon xr-icon-database'><use xlink:href='#icon-database'></use></svg></label><div class='xr-var-attrs'><dl class='xr-attrs'></dl></div><div class='xr-var-data'><pre>array([  3600000000000,   7200000000000,  10800000000000,  14400000000000,\n",
       "        18000000000000,  21600000000000,  25200000000000,  28800000000000,\n",
       "        32400000000000,  36000000000000,  39600000000000,  43200000000000,\n",
       "        46800000000000,  50400000000000,  54000000000000,  57600000000000,\n",
       "        61200000000000,  64800000000000,  68400000000000,  72000000000000,\n",
       "        75600000000000,  79200000000000,  82800000000000,  86400000000000,\n",
       "        90000000000000,  93600000000000,  97200000000000, 100800000000000,\n",
       "       104400000000000, 108000000000000, 111600000000000, 115200000000000,\n",
       "       118800000000000, 122400000000000, 126000000000000, 129600000000000,\n",
       "       133200000000000, 136800000000000, 140400000000000, 144000000000000,\n",
       "       147600000000000, 151200000000000, 154800000000000, 158400000000000,\n",
       "       162000000000000, 165600000000000, 169200000000000, 172800000000000,\n",
       "       176400000000000, 180000000000000, 183600000000000, 187200000000000,\n",
       "       190800000000000, 194400000000000, 198000000000000, 201600000000000,\n",
       "       205200000000000, 208800000000000, 212400000000000, 216000000000000,\n",
       "       219600000000000, 223200000000000, 226800000000000, 230400000000000,\n",
       "       234000000000000, 237600000000000, 241200000000000, 244800000000000,\n",
       "       248400000000000, 252000000000000, 255600000000000, 259200000000000],\n",
       "      dtype=&#x27;timedelta64[ns]&#x27;)</pre></div></li></ul></div></li><li class='xr-section-item'><input id='section-25b3932e-c252-48c7-bcdb-468708b4e33e' class='xr-section-summary-in' type='checkbox'  ><label for='section-25b3932e-c252-48c7-bcdb-468708b4e33e' class='xr-section-summary' >Data variables: <span>(17)</span></label><div class='xr-section-inline-details'></div><div class='xr-section-details'><ul class='xr-var-list'><li class='xr-var-item'><div class='xr-var-name'><span>latitude</span></div><div class='xr-var-dims'>(time, parcel_id)</div><div class='xr-var-dtype'>float32</div><div class='xr-var-preview xr-preview'>...</div><input id='attrs-f0895cb3-1fc3-44d9-a258-3b8a5774baaa' class='xr-var-attrs-in' type='checkbox' ><label for='attrs-f0895cb3-1fc3-44d9-a258-3b8a5774baaa' title='Show/Hide attributes'><svg class='icon xr-icon-file-text2'><use xlink:href='#icon-file-text2'></use></svg></label><input id='data-78bbeb1b-3c58-42ea-b2b4-1a616ed0ba3a' class='xr-var-data-in' type='checkbox'><label for='data-78bbeb1b-3c58-42ea-b2b4-1a616ed0ba3a' title='Show/Hide data repr'><svg class='icon xr-icon-database'><use xlink:href='#icon-database'></use></svg></label><div class='xr-var-attrs'><dl class='xr-attrs'><dt><span>units :</span></dt><dd>degrees_north</dd></dl></div><div class='xr-var-data'><pre>[41544 values with dtype=float32]</pre></div></li><li class='xr-var-item'><div class='xr-var-name'><span>longitude</span></div><div class='xr-var-dims'>(time, parcel_id)</div><div class='xr-var-dtype'>float32</div><div class='xr-var-preview xr-preview'>...</div><input id='attrs-ef151291-ec6c-4b2b-94ad-d59aeb11c9f5' class='xr-var-attrs-in' type='checkbox' ><label for='attrs-ef151291-ec6c-4b2b-94ad-d59aeb11c9f5' title='Show/Hide attributes'><svg class='icon xr-icon-file-text2'><use xlink:href='#icon-file-text2'></use></svg></label><input id='data-da36916e-74f0-4248-b92a-79d798b4c2fa' class='xr-var-data-in' type='checkbox'><label for='data-da36916e-74f0-4248-b92a-79d798b4c2fa' title='Show/Hide data repr'><svg class='icon xr-icon-database'><use xlink:href='#icon-database'></use></svg></label><div class='xr-var-attrs'><dl class='xr-attrs'><dt><span>units :</span></dt><dd>degrees_east</dd></dl></div><div class='xr-var-data'><pre>[41544 values with dtype=float32]</pre></div></li><li class='xr-var-item'><div class='xr-var-name'><span>evaporative_volume</span></div><div class='xr-var-dims'>(time, parcel_id)</div><div class='xr-var-dtype'>float32</div><div class='xr-var-preview xr-preview'>...</div><input id='attrs-694e6d84-725c-4cb1-9247-96d4aa49806e' class='xr-var-attrs-in' type='checkbox' ><label for='attrs-694e6d84-725c-4cb1-9247-96d4aa49806e' title='Show/Hide attributes'><svg class='icon xr-icon-file-text2'><use xlink:href='#icon-file-text2'></use></svg></label><input id='data-93bb8f5b-bbd5-46ed-8cdb-a7878527ca4c' class='xr-var-data-in' type='checkbox'><label for='data-93bb8f5b-bbd5-46ed-8cdb-a7878527ca4c' title='Show/Hide data repr'><svg class='icon xr-icon-database'><use xlink:href='#icon-database'></use></svg></label><div class='xr-var-attrs'><dl class='xr-attrs'><dt><span>units :</span></dt><dd>m3</dd><dt><span>oil_density :</span></dt><dd>989.0</dd><dt><span>volume_of_parcel :</span></dt><dd>109.516075</dd><dt><span>initial_position_x :</span></dt><dd>35.9167</dd><dt><span>initial_position_y :</span></dt><dd>35.1726</dd></dl></div><div class='xr-var-data'><pre>[41544 values with dtype=float32]</pre></div></li><li class='xr-var-item'><div class='xr-var-name'><span>non_evaporative_volume</span></div><div class='xr-var-dims'>(time, parcel_id)</div><div class='xr-var-dtype'>float32</div><div class='xr-var-preview xr-preview'>...</div><input id='attrs-d5d03c0c-3908-4419-84c6-3046c5fa4f7e' class='xr-var-attrs-in' type='checkbox' ><label for='attrs-d5d03c0c-3908-4419-84c6-3046c5fa4f7e' title='Show/Hide attributes'><svg class='icon xr-icon-file-text2'><use xlink:href='#icon-file-text2'></use></svg></label><input id='data-5001c87c-18ef-44ce-a6f7-045032fcbcf6' class='xr-var-data-in' type='checkbox'><label for='data-5001c87c-18ef-44ce-a6f7-045032fcbcf6' title='Show/Hide data repr'><svg class='icon xr-icon-database'><use xlink:href='#icon-database'></use></svg></label><div class='xr-var-attrs'><dl class='xr-attrs'><dt><span>units :</span></dt><dd>m3</dd><dt><span>oil_density :</span></dt><dd>989.0</dd><dt><span>volume_of_parcel :</span></dt><dd>109.516075</dd><dt><span>initial_position_x :</span></dt><dd>35.9167</dd><dt><span>initial_position_y :</span></dt><dd>35.1726</dd></dl></div><div class='xr-var-data'><pre>[41544 values with dtype=float32]</pre></div></li><li class='xr-var-item'><div class='xr-var-name'><span>water_fraction</span></div><div class='xr-var-dims'>(time, parcel_id)</div><div class='xr-var-dtype'>float32</div><div class='xr-var-preview xr-preview'>...</div><input id='attrs-f4258d26-b96e-4274-9127-542ebd006d0b' class='xr-var-attrs-in' type='checkbox' ><label for='attrs-f4258d26-b96e-4274-9127-542ebd006d0b' title='Show/Hide attributes'><svg class='icon xr-icon-file-text2'><use xlink:href='#icon-file-text2'></use></svg></label><input id='data-5b8f40f6-1834-4324-937c-3415f9abe396' class='xr-var-data-in' type='checkbox'><label for='data-5b8f40f6-1834-4324-937c-3415f9abe396' title='Show/Hide data repr'><svg class='icon xr-icon-database'><use xlink:href='#icon-database'></use></svg></label><div class='xr-var-attrs'><dl class='xr-attrs'><dt><span>units :</span></dt><dd>percentage</dd></dl></div><div class='xr-var-data'><pre>[41544 values with dtype=float32]</pre></div></li><li class='xr-var-item'><div class='xr-var-name'><span>particle_status</span></div><div class='xr-var-dims'>(time, parcel_id)</div><div class='xr-var-dtype'>float32</div><div class='xr-var-preview xr-preview'>...</div><input id='attrs-b69dabe8-277d-47aa-888c-edfdf4722485' class='xr-var-attrs-in' type='checkbox' ><label for='attrs-b69dabe8-277d-47aa-888c-edfdf4722485' title='Show/Hide attributes'><svg class='icon xr-icon-file-text2'><use xlink:href='#icon-file-text2'></use></svg></label><input id='data-05a6af38-922c-4e03-ac94-2b5dfe337598' class='xr-var-data-in' type='checkbox'><label for='data-05a6af38-922c-4e03-ac94-2b5dfe337598' title='Show/Hide data repr'><svg class='icon xr-icon-database'><use xlink:href='#icon-database'></use></svg></label><div class='xr-var-attrs'><dl class='xr-attrs'><dt><span>units :</span></dt><dd>0,1,2,3,4,-nsg,9</dd></dl></div><div class='xr-var-data'><pre>[41544 values with dtype=float32]</pre></div></li><li class='xr-var-item'><div class='xr-var-name'><span>segment_id</span></div><div class='xr-var-dims'>(time, parcel_id)</div><div class='xr-var-dtype'>float32</div><div class='xr-var-preview xr-preview'>...</div><input id='attrs-1610ff18-3c5c-4c89-8775-57bc13549247' class='xr-var-attrs-in' type='checkbox' disabled><label for='attrs-1610ff18-3c5c-4c89-8775-57bc13549247' title='Show/Hide attributes'><svg class='icon xr-icon-file-text2'><use xlink:href='#icon-file-text2'></use></svg></label><input id='data-faf4fe64-3795-4e47-8b48-860491bd896c' class='xr-var-data-in' type='checkbox'><label for='data-faf4fe64-3795-4e47-8b48-860491bd896c' title='Show/Hide data repr'><svg class='icon xr-icon-database'><use xlink:href='#icon-database'></use></svg></label><div class='xr-var-attrs'><dl class='xr-attrs'></dl></div><div class='xr-var-data'><pre>[41544 values with dtype=float32]</pre></div></li><li class='xr-var-item'><div class='xr-var-name'><span>total_fixed_oil</span></div><div class='xr-var-dims'>(time)</div><div class='xr-var-dtype'>float32</div><div class='xr-var-preview xr-preview'>...</div><input id='attrs-8c87120c-640a-4641-8ffa-b2692d0377f3' class='xr-var-attrs-in' type='checkbox' ><label for='attrs-8c87120c-640a-4641-8ffa-b2692d0377f3' title='Show/Hide attributes'><svg class='icon xr-icon-file-text2'><use xlink:href='#icon-file-text2'></use></svg></label><input id='data-5f8f23b6-8945-4534-a21c-0e235c276ed4' class='xr-var-data-in' type='checkbox'><label for='data-5f8f23b6-8945-4534-a21c-0e235c276ed4' title='Show/Hide data repr'><svg class='icon xr-icon-database'><use xlink:href='#icon-database'></use></svg></label><div class='xr-var-attrs'><dl class='xr-attrs'><dt><span>units :</span></dt><dd>tonnes</dd></dl></div><div class='xr-var-data'><pre>[72 values with dtype=float32]</pre></div></li><li class='xr-var-item'><div class='xr-var-name'><span>viscosity_emulsion_1</span></div><div class='xr-var-dims'>(time)</div><div class='xr-var-dtype'>float32</div><div class='xr-var-preview xr-preview'>...</div><input id='attrs-959543c8-e725-4c8b-82f1-d2e104d84265' class='xr-var-attrs-in' type='checkbox' ><label for='attrs-959543c8-e725-4c8b-82f1-d2e104d84265' title='Show/Hide attributes'><svg class='icon xr-icon-file-text2'><use xlink:href='#icon-file-text2'></use></svg></label><input id='data-c1e9a97d-30b9-4ee2-bdea-d06a559bf86a' class='xr-var-data-in' type='checkbox'><label for='data-c1e9a97d-30b9-4ee2-bdea-d06a559bf86a' title='Show/Hide data repr'><svg class='icon xr-icon-database'><use xlink:href='#icon-database'></use></svg></label><div class='xr-var-attrs'><dl class='xr-attrs'><dt><span>units :</span></dt><dd>Pa.s</dd></dl></div><div class='xr-var-data'><pre>[72 values with dtype=float32]</pre></div></li><li class='xr-var-item'><div class='xr-var-name'><span>viscosity_emulsion_2</span></div><div class='xr-var-dims'>(time)</div><div class='xr-var-dtype'>float32</div><div class='xr-var-preview xr-preview'>...</div><input id='attrs-5a318691-e6b7-4bb8-a831-5593632c606e' class='xr-var-attrs-in' type='checkbox' ><label for='attrs-5a318691-e6b7-4bb8-a831-5593632c606e' title='Show/Hide attributes'><svg class='icon xr-icon-file-text2'><use xlink:href='#icon-file-text2'></use></svg></label><input id='data-256262ca-5b94-44d1-ad36-cfd519537e23' class='xr-var-data-in' type='checkbox'><label for='data-256262ca-5b94-44d1-ad36-cfd519537e23' title='Show/Hide data repr'><svg class='icon xr-icon-database'><use xlink:href='#icon-database'></use></svg></label><div class='xr-var-attrs'><dl class='xr-attrs'><dt><span>units :</span></dt><dd>Pa.s</dd></dl></div><div class='xr-var-data'><pre>[72 values with dtype=float32]</pre></div></li><li class='xr-var-item'><div class='xr-var-name'><span>viscosity_oil_1</span></div><div class='xr-var-dims'>(time)</div><div class='xr-var-dtype'>float32</div><div class='xr-var-preview xr-preview'>...</div><input id='attrs-3cd5c100-7720-43e3-9138-673fce6905bb' class='xr-var-attrs-in' type='checkbox' ><label for='attrs-3cd5c100-7720-43e3-9138-673fce6905bb' title='Show/Hide attributes'><svg class='icon xr-icon-file-text2'><use xlink:href='#icon-file-text2'></use></svg></label><input id='data-b7962545-abde-464e-a388-ff5afa304457' class='xr-var-data-in' type='checkbox'><label for='data-b7962545-abde-464e-a388-ff5afa304457' title='Show/Hide data repr'><svg class='icon xr-icon-database'><use xlink:href='#icon-database'></use></svg></label><div class='xr-var-attrs'><dl class='xr-attrs'><dt><span>units :</span></dt><dd>Pa.s</dd></dl></div><div class='xr-var-data'><pre>[72 values with dtype=float32]</pre></div></li><li class='xr-var-item'><div class='xr-var-name'><span>viscosity_oil_2</span></div><div class='xr-var-dims'>(time)</div><div class='xr-var-dtype'>float32</div><div class='xr-var-preview xr-preview'>...</div><input id='attrs-dbf7340a-8c23-4009-b738-85bf67e6eab8' class='xr-var-attrs-in' type='checkbox' ><label for='attrs-dbf7340a-8c23-4009-b738-85bf67e6eab8' title='Show/Hide attributes'><svg class='icon xr-icon-file-text2'><use xlink:href='#icon-file-text2'></use></svg></label><input id='data-89cc0e7e-a880-43f9-b8c9-723c2d45eea1' class='xr-var-data-in' type='checkbox'><label for='data-89cc0e7e-a880-43f9-b8c9-723c2d45eea1' title='Show/Hide data repr'><svg class='icon xr-icon-database'><use xlink:href='#icon-database'></use></svg></label><div class='xr-var-attrs'><dl class='xr-attrs'><dt><span>units :</span></dt><dd>Pa.s</dd></dl></div><div class='xr-var-data'><pre>[72 values with dtype=float32]</pre></div></li><li class='xr-var-item'><div class='xr-var-name'><span>density_emulsion_1</span></div><div class='xr-var-dims'>(time)</div><div class='xr-var-dtype'>float32</div><div class='xr-var-preview xr-preview'>...</div><input id='attrs-7a1e6c11-5247-44fe-b1fc-f04fd413332b' class='xr-var-attrs-in' type='checkbox' ><label for='attrs-7a1e6c11-5247-44fe-b1fc-f04fd413332b' title='Show/Hide attributes'><svg class='icon xr-icon-file-text2'><use xlink:href='#icon-file-text2'></use></svg></label><input id='data-d721fce4-e7ac-4d63-9969-06cf9fe3811c' class='xr-var-data-in' type='checkbox'><label for='data-d721fce4-e7ac-4d63-9969-06cf9fe3811c' title='Show/Hide data repr'><svg class='icon xr-icon-database'><use xlink:href='#icon-database'></use></svg></label><div class='xr-var-attrs'><dl class='xr-attrs'><dt><span>units :</span></dt><dd>kg/m3</dd></dl></div><div class='xr-var-data'><pre>[72 values with dtype=float32]</pre></div></li><li class='xr-var-item'><div class='xr-var-name'><span>density_emulsion_2</span></div><div class='xr-var-dims'>(time)</div><div class='xr-var-dtype'>float32</div><div class='xr-var-preview xr-preview'>...</div><input id='attrs-b91a1c8b-ef89-45a2-94da-7de412eca238' class='xr-var-attrs-in' type='checkbox' ><label for='attrs-b91a1c8b-ef89-45a2-94da-7de412eca238' title='Show/Hide attributes'><svg class='icon xr-icon-file-text2'><use xlink:href='#icon-file-text2'></use></svg></label><input id='data-7fc8496d-5afe-4a16-96d4-9172a3d6a1b5' class='xr-var-data-in' type='checkbox'><label for='data-7fc8496d-5afe-4a16-96d4-9172a3d6a1b5' title='Show/Hide data repr'><svg class='icon xr-icon-database'><use xlink:href='#icon-database'></use></svg></label><div class='xr-var-attrs'><dl class='xr-attrs'><dt><span>units :</span></dt><dd>kg/m3</dd></dl></div><div class='xr-var-data'><pre>[72 values with dtype=float32]</pre></div></li><li class='xr-var-item'><div class='xr-var-name'><span>water_fraction_1</span></div><div class='xr-var-dims'>(time)</div><div class='xr-var-dtype'>float32</div><div class='xr-var-preview xr-preview'>...</div><input id='attrs-c90fa226-0b53-4d19-b133-ba064349a4aa' class='xr-var-attrs-in' type='checkbox' ><label for='attrs-c90fa226-0b53-4d19-b133-ba064349a4aa' title='Show/Hide attributes'><svg class='icon xr-icon-file-text2'><use xlink:href='#icon-file-text2'></use></svg></label><input id='data-cd0fcd0d-a6f0-490d-ac96-7dc26290a23c' class='xr-var-data-in' type='checkbox'><label for='data-cd0fcd0d-a6f0-490d-ac96-7dc26290a23c' title='Show/Hide data repr'><svg class='icon xr-icon-database'><use xlink:href='#icon-database'></use></svg></label><div class='xr-var-attrs'><dl class='xr-attrs'><dt><span>units :</span></dt><dd>percentage</dd></dl></div><div class='xr-var-data'><pre>[72 values with dtype=float32]</pre></div></li><li class='xr-var-item'><div class='xr-var-name'><span>water_fraction_2</span></div><div class='xr-var-dims'>(time)</div><div class='xr-var-dtype'>float32</div><div class='xr-var-preview xr-preview'>...</div><input id='attrs-e9384777-9ebb-4cca-ab0f-9877a2efb1a0' class='xr-var-attrs-in' type='checkbox' ><label for='attrs-e9384777-9ebb-4cca-ab0f-9877a2efb1a0' title='Show/Hide attributes'><svg class='icon xr-icon-file-text2'><use xlink:href='#icon-file-text2'></use></svg></label><input id='data-7cbfacf7-77fb-4e8f-90d9-0ad713727443' class='xr-var-data-in' type='checkbox'><label for='data-7cbfacf7-77fb-4e8f-90d9-0ad713727443' title='Show/Hide data repr'><svg class='icon xr-icon-database'><use xlink:href='#icon-database'></use></svg></label><div class='xr-var-attrs'><dl class='xr-attrs'><dt><span>units :</span></dt><dd>percentage</dd></dl></div><div class='xr-var-data'><pre>[72 values with dtype=float32]</pre></div></li><li class='xr-var-item'><div class='xr-var-name'><span>volume_ratio</span></div><div class='xr-var-dims'>(time)</div><div class='xr-var-dtype'>float32</div><div class='xr-var-preview xr-preview'>...</div><input id='attrs-184709a3-4475-45ad-bceb-56f2106c2ce6' class='xr-var-attrs-in' type='checkbox' ><label for='attrs-184709a3-4475-45ad-bceb-56f2106c2ce6' title='Show/Hide attributes'><svg class='icon xr-icon-file-text2'><use xlink:href='#icon-file-text2'></use></svg></label><input id='data-f4352b17-84f9-4182-be87-419e0cc3cd87' class='xr-var-data-in' type='checkbox'><label for='data-f4352b17-84f9-4182-be87-419e0cc3cd87' title='Show/Hide data repr'><svg class='icon xr-icon-database'><use xlink:href='#icon-database'></use></svg></label><div class='xr-var-attrs'><dl class='xr-attrs'><dt><span>units :</span></dt><dd>percentage</dd></dl></div><div class='xr-var-data'><pre>[72 values with dtype=float32]</pre></div></li></ul></div></li><li class='xr-section-item'><input id='section-e5728521-6a94-44e6-9474-cbdc599c3eed' class='xr-section-summary-in' type='checkbox'  ><label for='section-e5728521-6a94-44e6-9474-cbdc599c3eed' class='xr-section-summary' >Indexes: <span>(1)</span></label><div class='xr-section-inline-details'></div><div class='xr-section-details'><ul class='xr-var-list'><li class='xr-var-item'><div class='xr-index-name'><div>time</div></div><div class='xr-index-preview'>PandasIndex</div><div></div><input id='index-f3c929b9-986f-44d3-a28a-722511abfc94' class='xr-index-data-in' type='checkbox'/><label for='index-f3c929b9-986f-44d3-a28a-722511abfc94' title='Show/Hide index repr'><svg class='icon xr-icon-database'><use xlink:href='#icon-database'></use></svg></label><div class='xr-index-data'><pre>PandasIndex(TimedeltaIndex([&#x27;0 days 01:00:00&#x27;, &#x27;0 days 02:00:00&#x27;, &#x27;0 days 03:00:00&#x27;,\n",
       "                &#x27;0 days 04:00:00&#x27;, &#x27;0 days 05:00:00&#x27;, &#x27;0 days 06:00:00&#x27;,\n",
       "                &#x27;0 days 07:00:00&#x27;, &#x27;0 days 08:00:00&#x27;, &#x27;0 days 09:00:00&#x27;,\n",
       "                &#x27;0 days 10:00:00&#x27;, &#x27;0 days 11:00:00&#x27;, &#x27;0 days 12:00:00&#x27;,\n",
       "                &#x27;0 days 13:00:00&#x27;, &#x27;0 days 14:00:00&#x27;, &#x27;0 days 15:00:00&#x27;,\n",
       "                &#x27;0 days 16:00:00&#x27;, &#x27;0 days 17:00:00&#x27;, &#x27;0 days 18:00:00&#x27;,\n",
       "                &#x27;0 days 19:00:00&#x27;, &#x27;0 days 20:00:00&#x27;, &#x27;0 days 21:00:00&#x27;,\n",
       "                &#x27;0 days 22:00:00&#x27;, &#x27;0 days 23:00:00&#x27;, &#x27;1 days 00:00:00&#x27;,\n",
       "                &#x27;1 days 01:00:00&#x27;, &#x27;1 days 02:00:00&#x27;, &#x27;1 days 03:00:00&#x27;,\n",
       "                &#x27;1 days 04:00:00&#x27;, &#x27;1 days 05:00:00&#x27;, &#x27;1 days 06:00:00&#x27;,\n",
       "                &#x27;1 days 07:00:00&#x27;, &#x27;1 days 08:00:00&#x27;, &#x27;1 days 09:00:00&#x27;,\n",
       "                &#x27;1 days 10:00:00&#x27;, &#x27;1 days 11:00:00&#x27;, &#x27;1 days 12:00:00&#x27;,\n",
       "                &#x27;1 days 13:00:00&#x27;, &#x27;1 days 14:00:00&#x27;, &#x27;1 days 15:00:00&#x27;,\n",
       "                &#x27;1 days 16:00:00&#x27;, &#x27;1 days 17:00:00&#x27;, &#x27;1 days 18:00:00&#x27;,\n",
       "                &#x27;1 days 19:00:00&#x27;, &#x27;1 days 20:00:00&#x27;, &#x27;1 days 21:00:00&#x27;,\n",
       "                &#x27;1 days 22:00:00&#x27;, &#x27;1 days 23:00:00&#x27;, &#x27;2 days 00:00:00&#x27;,\n",
       "                &#x27;2 days 01:00:00&#x27;, &#x27;2 days 02:00:00&#x27;, &#x27;2 days 03:00:00&#x27;,\n",
       "                &#x27;2 days 04:00:00&#x27;, &#x27;2 days 05:00:00&#x27;, &#x27;2 days 06:00:00&#x27;,\n",
       "                &#x27;2 days 07:00:00&#x27;, &#x27;2 days 08:00:00&#x27;, &#x27;2 days 09:00:00&#x27;,\n",
       "                &#x27;2 days 10:00:00&#x27;, &#x27;2 days 11:00:00&#x27;, &#x27;2 days 12:00:00&#x27;,\n",
       "                &#x27;2 days 13:00:00&#x27;, &#x27;2 days 14:00:00&#x27;, &#x27;2 days 15:00:00&#x27;,\n",
       "                &#x27;2 days 16:00:00&#x27;, &#x27;2 days 17:00:00&#x27;, &#x27;2 days 18:00:00&#x27;,\n",
       "                &#x27;2 days 19:00:00&#x27;, &#x27;2 days 20:00:00&#x27;, &#x27;2 days 21:00:00&#x27;,\n",
       "                &#x27;2 days 22:00:00&#x27;, &#x27;2 days 23:00:00&#x27;, &#x27;3 days 00:00:00&#x27;],\n",
       "               dtype=&#x27;timedelta64[ns]&#x27;, name=&#x27;time&#x27;, freq=None))</pre></div></li></ul></div></li><li class='xr-section-item'><input id='section-6e174b3b-7e12-496b-a3cb-6e1128e00a7c' class='xr-section-summary-in' type='checkbox' disabled ><label for='section-6e174b3b-7e12-496b-a3cb-6e1128e00a7c' class='xr-section-summary'  title='Expand/collapse section'>Attributes: <span>(0)</span></label><div class='xr-section-inline-details'></div><div class='xr-section-details'><dl class='xr-attrs'></dl></div></li></ul></div></div>"
      ],
      "text/plain": [
       "<xarray.Dataset>\n",
       "Dimensions:                 (time: 72, parcel_id: 577)\n",
       "Coordinates:\n",
       "  * time                    (time) timedelta64[ns] 01:00:00 ... 3 days 00:00:00\n",
       "Dimensions without coordinates: parcel_id\n",
       "Data variables: (12/17)\n",
       "    latitude                (time, parcel_id) float32 ...\n",
       "    longitude               (time, parcel_id) float32 ...\n",
       "    evaporative_volume      (time, parcel_id) float32 ...\n",
       "    non_evaporative_volume  (time, parcel_id) float32 ...\n",
       "    water_fraction          (time, parcel_id) float32 ...\n",
       "    particle_status         (time, parcel_id) float32 ...\n",
       "    ...                      ...\n",
       "    viscosity_oil_2         (time) float32 ...\n",
       "    density_emulsion_1      (time) float32 ...\n",
       "    density_emulsion_2      (time) float32 ...\n",
       "    water_fraction_1        (time) float32 ...\n",
       "    water_fraction_2        (time) float32 ...\n",
       "    volume_ratio            (time) float32 ..."
      ]
     },
     "execution_count": 4,
     "metadata": {},
     "output_type": "execute_result"
    }
   ],
   "source": [
    "import netCDF4\n",
    "import os\n",
    "import xarray as xr\n",
    "\n",
    "import sys\n",
    "sys.path.append(\"/work/asc/machine_learning/projects/iMagine/bayes_opt/src\")\n",
    "\n",
    "from controller.PathController import PathController\n",
    "\n",
    "instance = PathController(\"/work/asc/machine_learning/projects/iMagine/bayes_opt/src/data_connection/workflow_config.toml\")\n",
    "\n",
    "#f = netCDF4.Dataset(os.path.join(instance.get_MEDSLIK_OUT_DIR(), 'spill_properties.nc'))\n",
    "f = xr.open_dataset(os.path.join(instance.get_MEDSLIK_OUT_DIR(), 'spill_properties.nc'))\n",
    "#print(f['longitude'])\n",
    "f"
   ]
  },
  {
   "cell_type": "code",
   "execution_count": 12,
   "metadata": {},
   "outputs": [
    {
     "data": {
      "text/html": [
       "<div><svg style=\"position: absolute; width: 0; height: 0; overflow: hidden\">\n",
       "<defs>\n",
       "<symbol id=\"icon-database\" viewBox=\"0 0 32 32\">\n",
       "<path d=\"M16 0c-8.837 0-16 2.239-16 5v4c0 2.761 7.163 5 16 5s16-2.239 16-5v-4c0-2.761-7.163-5-16-5z\"></path>\n",
       "<path d=\"M16 17c-8.837 0-16-2.239-16-5v6c0 2.761 7.163 5 16 5s16-2.239 16-5v-6c0 2.761-7.163 5-16 5z\"></path>\n",
       "<path d=\"M16 26c-8.837 0-16-2.239-16-5v6c0 2.761 7.163 5 16 5s16-2.239 16-5v-6c0 2.761-7.163 5-16 5z\"></path>\n",
       "</symbol>\n",
       "<symbol id=\"icon-file-text2\" viewBox=\"0 0 32 32\">\n",
       "<path d=\"M28.681 7.159c-0.694-0.947-1.662-2.053-2.724-3.116s-2.169-2.030-3.116-2.724c-1.612-1.182-2.393-1.319-2.841-1.319h-15.5c-1.378 0-2.5 1.121-2.5 2.5v27c0 1.378 1.122 2.5 2.5 2.5h23c1.378 0 2.5-1.122 2.5-2.5v-19.5c0-0.448-0.137-1.23-1.319-2.841zM24.543 5.457c0.959 0.959 1.712 1.825 2.268 2.543h-4.811v-4.811c0.718 0.556 1.584 1.309 2.543 2.268zM28 29.5c0 0.271-0.229 0.5-0.5 0.5h-23c-0.271 0-0.5-0.229-0.5-0.5v-27c0-0.271 0.229-0.5 0.5-0.5 0 0 15.499-0 15.5 0v7c0 0.552 0.448 1 1 1h7v19.5z\"></path>\n",
       "<path d=\"M23 26h-14c-0.552 0-1-0.448-1-1s0.448-1 1-1h14c0.552 0 1 0.448 1 1s-0.448 1-1 1z\"></path>\n",
       "<path d=\"M23 22h-14c-0.552 0-1-0.448-1-1s0.448-1 1-1h14c0.552 0 1 0.448 1 1s-0.448 1-1 1z\"></path>\n",
       "<path d=\"M23 18h-14c-0.552 0-1-0.448-1-1s0.448-1 1-1h14c0.552 0 1 0.448 1 1s-0.448 1-1 1z\"></path>\n",
       "</symbol>\n",
       "</defs>\n",
       "</svg>\n",
       "<style>/* CSS stylesheet for displaying xarray objects in jupyterlab.\n",
       " *\n",
       " */\n",
       "\n",
       ":root {\n",
       "  --xr-font-color0: var(--jp-content-font-color0, rgba(0, 0, 0, 1));\n",
       "  --xr-font-color2: var(--jp-content-font-color2, rgba(0, 0, 0, 0.54));\n",
       "  --xr-font-color3: var(--jp-content-font-color3, rgba(0, 0, 0, 0.38));\n",
       "  --xr-border-color: var(--jp-border-color2, #e0e0e0);\n",
       "  --xr-disabled-color: var(--jp-layout-color3, #bdbdbd);\n",
       "  --xr-background-color: var(--jp-layout-color0, white);\n",
       "  --xr-background-color-row-even: var(--jp-layout-color1, white);\n",
       "  --xr-background-color-row-odd: var(--jp-layout-color2, #eeeeee);\n",
       "}\n",
       "\n",
       "html[theme=dark],\n",
       "body[data-theme=dark],\n",
       "body.vscode-dark {\n",
       "  --xr-font-color0: rgba(255, 255, 255, 1);\n",
       "  --xr-font-color2: rgba(255, 255, 255, 0.54);\n",
       "  --xr-font-color3: rgba(255, 255, 255, 0.38);\n",
       "  --xr-border-color: #1F1F1F;\n",
       "  --xr-disabled-color: #515151;\n",
       "  --xr-background-color: #111111;\n",
       "  --xr-background-color-row-even: #111111;\n",
       "  --xr-background-color-row-odd: #313131;\n",
       "}\n",
       "\n",
       ".xr-wrap {\n",
       "  display: block !important;\n",
       "  min-width: 300px;\n",
       "  max-width: 700px;\n",
       "}\n",
       "\n",
       ".xr-text-repr-fallback {\n",
       "  /* fallback to plain text repr when CSS is not injected (untrusted notebook) */\n",
       "  display: none;\n",
       "}\n",
       "\n",
       ".xr-header {\n",
       "  padding-top: 6px;\n",
       "  padding-bottom: 6px;\n",
       "  margin-bottom: 4px;\n",
       "  border-bottom: solid 1px var(--xr-border-color);\n",
       "}\n",
       "\n",
       ".xr-header > div,\n",
       ".xr-header > ul {\n",
       "  display: inline;\n",
       "  margin-top: 0;\n",
       "  margin-bottom: 0;\n",
       "}\n",
       "\n",
       ".xr-obj-type,\n",
       ".xr-array-name {\n",
       "  margin-left: 2px;\n",
       "  margin-right: 10px;\n",
       "}\n",
       "\n",
       ".xr-obj-type {\n",
       "  color: var(--xr-font-color2);\n",
       "}\n",
       "\n",
       ".xr-sections {\n",
       "  padding-left: 0 !important;\n",
       "  display: grid;\n",
       "  grid-template-columns: 150px auto auto 1fr 20px 20px;\n",
       "}\n",
       "\n",
       ".xr-section-item {\n",
       "  display: contents;\n",
       "}\n",
       "\n",
       ".xr-section-item input {\n",
       "  display: none;\n",
       "}\n",
       "\n",
       ".xr-section-item input + label {\n",
       "  color: var(--xr-disabled-color);\n",
       "}\n",
       "\n",
       ".xr-section-item input:enabled + label {\n",
       "  cursor: pointer;\n",
       "  color: var(--xr-font-color2);\n",
       "}\n",
       "\n",
       ".xr-section-item input:enabled + label:hover {\n",
       "  color: var(--xr-font-color0);\n",
       "}\n",
       "\n",
       ".xr-section-summary {\n",
       "  grid-column: 1;\n",
       "  color: var(--xr-font-color2);\n",
       "  font-weight: 500;\n",
       "}\n",
       "\n",
       ".xr-section-summary > span {\n",
       "  display: inline-block;\n",
       "  padding-left: 0.5em;\n",
       "}\n",
       "\n",
       ".xr-section-summary-in:disabled + label {\n",
       "  color: var(--xr-font-color2);\n",
       "}\n",
       "\n",
       ".xr-section-summary-in + label:before {\n",
       "  display: inline-block;\n",
       "  content: '►';\n",
       "  font-size: 11px;\n",
       "  width: 15px;\n",
       "  text-align: center;\n",
       "}\n",
       "\n",
       ".xr-section-summary-in:disabled + label:before {\n",
       "  color: var(--xr-disabled-color);\n",
       "}\n",
       "\n",
       ".xr-section-summary-in:checked + label:before {\n",
       "  content: '▼';\n",
       "}\n",
       "\n",
       ".xr-section-summary-in:checked + label > span {\n",
       "  display: none;\n",
       "}\n",
       "\n",
       ".xr-section-summary,\n",
       ".xr-section-inline-details {\n",
       "  padding-top: 4px;\n",
       "  padding-bottom: 4px;\n",
       "}\n",
       "\n",
       ".xr-section-inline-details {\n",
       "  grid-column: 2 / -1;\n",
       "}\n",
       "\n",
       ".xr-section-details {\n",
       "  display: none;\n",
       "  grid-column: 1 / -1;\n",
       "  margin-bottom: 5px;\n",
       "}\n",
       "\n",
       ".xr-section-summary-in:checked ~ .xr-section-details {\n",
       "  display: contents;\n",
       "}\n",
       "\n",
       ".xr-array-wrap {\n",
       "  grid-column: 1 / -1;\n",
       "  display: grid;\n",
       "  grid-template-columns: 20px auto;\n",
       "}\n",
       "\n",
       ".xr-array-wrap > label {\n",
       "  grid-column: 1;\n",
       "  vertical-align: top;\n",
       "}\n",
       "\n",
       ".xr-preview {\n",
       "  color: var(--xr-font-color3);\n",
       "}\n",
       "\n",
       ".xr-array-preview,\n",
       ".xr-array-data {\n",
       "  padding: 0 5px !important;\n",
       "  grid-column: 2;\n",
       "}\n",
       "\n",
       ".xr-array-data,\n",
       ".xr-array-in:checked ~ .xr-array-preview {\n",
       "  display: none;\n",
       "}\n",
       "\n",
       ".xr-array-in:checked ~ .xr-array-data,\n",
       ".xr-array-preview {\n",
       "  display: inline-block;\n",
       "}\n",
       "\n",
       ".xr-dim-list {\n",
       "  display: inline-block !important;\n",
       "  list-style: none;\n",
       "  padding: 0 !important;\n",
       "  margin: 0;\n",
       "}\n",
       "\n",
       ".xr-dim-list li {\n",
       "  display: inline-block;\n",
       "  padding: 0;\n",
       "  margin: 0;\n",
       "}\n",
       "\n",
       ".xr-dim-list:before {\n",
       "  content: '(';\n",
       "}\n",
       "\n",
       ".xr-dim-list:after {\n",
       "  content: ')';\n",
       "}\n",
       "\n",
       ".xr-dim-list li:not(:last-child):after {\n",
       "  content: ',';\n",
       "  padding-right: 5px;\n",
       "}\n",
       "\n",
       ".xr-has-index {\n",
       "  font-weight: bold;\n",
       "}\n",
       "\n",
       ".xr-var-list,\n",
       ".xr-var-item {\n",
       "  display: contents;\n",
       "}\n",
       "\n",
       ".xr-var-item > div,\n",
       ".xr-var-item label,\n",
       ".xr-var-item > .xr-var-name span {\n",
       "  background-color: var(--xr-background-color-row-even);\n",
       "  margin-bottom: 0;\n",
       "}\n",
       "\n",
       ".xr-var-item > .xr-var-name:hover span {\n",
       "  padding-right: 5px;\n",
       "}\n",
       "\n",
       ".xr-var-list > li:nth-child(odd) > div,\n",
       ".xr-var-list > li:nth-child(odd) > label,\n",
       ".xr-var-list > li:nth-child(odd) > .xr-var-name span {\n",
       "  background-color: var(--xr-background-color-row-odd);\n",
       "}\n",
       "\n",
       ".xr-var-name {\n",
       "  grid-column: 1;\n",
       "}\n",
       "\n",
       ".xr-var-dims {\n",
       "  grid-column: 2;\n",
       "}\n",
       "\n",
       ".xr-var-dtype {\n",
       "  grid-column: 3;\n",
       "  text-align: right;\n",
       "  color: var(--xr-font-color2);\n",
       "}\n",
       "\n",
       ".xr-var-preview {\n",
       "  grid-column: 4;\n",
       "}\n",
       "\n",
       ".xr-index-preview {\n",
       "  grid-column: 2 / 5;\n",
       "  color: var(--xr-font-color2);\n",
       "}\n",
       "\n",
       ".xr-var-name,\n",
       ".xr-var-dims,\n",
       ".xr-var-dtype,\n",
       ".xr-preview,\n",
       ".xr-attrs dt {\n",
       "  white-space: nowrap;\n",
       "  overflow: hidden;\n",
       "  text-overflow: ellipsis;\n",
       "  padding-right: 10px;\n",
       "}\n",
       "\n",
       ".xr-var-name:hover,\n",
       ".xr-var-dims:hover,\n",
       ".xr-var-dtype:hover,\n",
       ".xr-attrs dt:hover {\n",
       "  overflow: visible;\n",
       "  width: auto;\n",
       "  z-index: 1;\n",
       "}\n",
       "\n",
       ".xr-var-attrs,\n",
       ".xr-var-data,\n",
       ".xr-index-data {\n",
       "  display: none;\n",
       "  background-color: var(--xr-background-color) !important;\n",
       "  padding-bottom: 5px !important;\n",
       "}\n",
       "\n",
       ".xr-var-attrs-in:checked ~ .xr-var-attrs,\n",
       ".xr-var-data-in:checked ~ .xr-var-data,\n",
       ".xr-index-data-in:checked ~ .xr-index-data {\n",
       "  display: block;\n",
       "}\n",
       "\n",
       ".xr-var-data > table {\n",
       "  float: right;\n",
       "}\n",
       "\n",
       ".xr-var-name span,\n",
       ".xr-var-data,\n",
       ".xr-index-name div,\n",
       ".xr-index-data,\n",
       ".xr-attrs {\n",
       "  padding-left: 25px !important;\n",
       "}\n",
       "\n",
       ".xr-attrs,\n",
       ".xr-var-attrs,\n",
       ".xr-var-data,\n",
       ".xr-index-data {\n",
       "  grid-column: 1 / -1;\n",
       "}\n",
       "\n",
       "dl.xr-attrs {\n",
       "  padding: 0;\n",
       "  margin: 0;\n",
       "  display: grid;\n",
       "  grid-template-columns: 125px auto;\n",
       "}\n",
       "\n",
       ".xr-attrs dt,\n",
       ".xr-attrs dd {\n",
       "  padding: 0;\n",
       "  margin: 0;\n",
       "  float: left;\n",
       "  padding-right: 10px;\n",
       "  width: auto;\n",
       "}\n",
       "\n",
       ".xr-attrs dt {\n",
       "  font-weight: normal;\n",
       "  grid-column: 1;\n",
       "}\n",
       "\n",
       ".xr-attrs dt:hover span {\n",
       "  display: inline-block;\n",
       "  background: var(--xr-background-color);\n",
       "  padding-right: 10px;\n",
       "}\n",
       "\n",
       ".xr-attrs dd {\n",
       "  grid-column: 2;\n",
       "  white-space: pre-wrap;\n",
       "  word-break: break-all;\n",
       "}\n",
       "\n",
       ".xr-icon-database,\n",
       ".xr-icon-file-text2,\n",
       ".xr-no-icon {\n",
       "  display: inline-block;\n",
       "  vertical-align: middle;\n",
       "  width: 1em;\n",
       "  height: 1.5em !important;\n",
       "  stroke-width: 0;\n",
       "  stroke: currentColor;\n",
       "  fill: currentColor;\n",
       "}\n",
       "</style><pre class='xr-text-repr-fallback'>&lt;xarray.DataArray &#x27;latitude&#x27; (time: 1, parcel_id: 577)&gt;\n",
       "[577 values with dtype=float32]\n",
       "Coordinates:\n",
       "  * time     (time) timedelta64[ns] 01:00:00\n",
       "Dimensions without coordinates: parcel_id\n",
       "Attributes:\n",
       "    units:    degrees_north</pre><div class='xr-wrap' style='display:none'><div class='xr-header'><div class='xr-obj-type'>xarray.DataArray</div><div class='xr-array-name'>'latitude'</div><ul class='xr-dim-list'><li><span class='xr-has-index'>time</span>: 1</li><li><span>parcel_id</span>: 577</li></ul></div><ul class='xr-sections'><li class='xr-section-item'><div class='xr-array-wrap'><input id='section-f5b0936c-f6cf-483c-a5bb-36aaeb9faffa' class='xr-array-in' type='checkbox' checked><label for='section-f5b0936c-f6cf-483c-a5bb-36aaeb9faffa' title='Show/hide data repr'><svg class='icon xr-icon-database'><use xlink:href='#icon-database'></use></svg></label><div class='xr-array-preview xr-preview'><span>...</span></div><div class='xr-array-data'><pre>[577 values with dtype=float32]</pre></div></div></li><li class='xr-section-item'><input id='section-79d89dd6-0a33-4480-9326-f7904b1e69f1' class='xr-section-summary-in' type='checkbox'  checked><label for='section-79d89dd6-0a33-4480-9326-f7904b1e69f1' class='xr-section-summary' >Coordinates: <span>(1)</span></label><div class='xr-section-inline-details'></div><div class='xr-section-details'><ul class='xr-var-list'><li class='xr-var-item'><div class='xr-var-name'><span class='xr-has-index'>time</span></div><div class='xr-var-dims'>(time)</div><div class='xr-var-dtype'>timedelta64[ns]</div><div class='xr-var-preview xr-preview'>01:00:00</div><input id='attrs-b78d9ae7-7cdf-41de-ab61-9558b82edd09' class='xr-var-attrs-in' type='checkbox' disabled><label for='attrs-b78d9ae7-7cdf-41de-ab61-9558b82edd09' title='Show/Hide attributes'><svg class='icon xr-icon-file-text2'><use xlink:href='#icon-file-text2'></use></svg></label><input id='data-dd050e9a-90d4-4b43-8aad-456830b3e022' class='xr-var-data-in' type='checkbox'><label for='data-dd050e9a-90d4-4b43-8aad-456830b3e022' title='Show/Hide data repr'><svg class='icon xr-icon-database'><use xlink:href='#icon-database'></use></svg></label><div class='xr-var-attrs'><dl class='xr-attrs'></dl></div><div class='xr-var-data'><pre>array([3600000000000], dtype=&#x27;timedelta64[ns]&#x27;)</pre></div></li></ul></div></li><li class='xr-section-item'><input id='section-0c12dbfb-c430-4b2b-8fa3-76bfe9cc1a86' class='xr-section-summary-in' type='checkbox'  ><label for='section-0c12dbfb-c430-4b2b-8fa3-76bfe9cc1a86' class='xr-section-summary' >Indexes: <span>(1)</span></label><div class='xr-section-inline-details'></div><div class='xr-section-details'><ul class='xr-var-list'><li class='xr-var-item'><div class='xr-index-name'><div>time</div></div><div class='xr-index-preview'>PandasIndex</div><div></div><input id='index-a9171bae-1d96-40c0-8296-7c011b2cff18' class='xr-index-data-in' type='checkbox'/><label for='index-a9171bae-1d96-40c0-8296-7c011b2cff18' title='Show/Hide index repr'><svg class='icon xr-icon-database'><use xlink:href='#icon-database'></use></svg></label><div class='xr-index-data'><pre>PandasIndex(TimedeltaIndex([&#x27;0 days 01:00:00&#x27;], dtype=&#x27;timedelta64[ns]&#x27;, name=&#x27;time&#x27;, freq=None))</pre></div></li></ul></div></li><li class='xr-section-item'><input id='section-e47d43f6-5405-4a72-a260-b6710d35eef9' class='xr-section-summary-in' type='checkbox'  checked><label for='section-e47d43f6-5405-4a72-a260-b6710d35eef9' class='xr-section-summary' >Attributes: <span>(1)</span></label><div class='xr-section-inline-details'></div><div class='xr-section-details'><dl class='xr-attrs'><dt><span>units :</span></dt><dd>degrees_north</dd></dl></div></li></ul></div></div>"
      ],
      "text/plain": [
       "<xarray.DataArray 'latitude' (time: 1, parcel_id: 577)>\n",
       "[577 values with dtype=float32]\n",
       "Coordinates:\n",
       "  * time     (time) timedelta64[ns] 01:00:00\n",
       "Dimensions without coordinates: parcel_id\n",
       "Attributes:\n",
       "    units:    degrees_north"
      ]
     },
     "execution_count": 12,
     "metadata": {},
     "output_type": "execute_result"
    }
   ],
   "source": [
    "lt = f.latitude\n",
    "lt.sel(time=slice(\"3600000000000\"))"
   ]
  },
  {
   "cell_type": "code",
   "execution_count": 15,
   "metadata": {},
   "outputs": [
    {
     "data": {
      "text/plain": [
       "[<matplotlib.lines.Line2D at 0x1547e2719460>]"
      ]
     },
     "execution_count": 15,
     "metadata": {},
     "output_type": "execute_result"
    },
    {
     "data": {
      "image/png": "[encoded data removed]",
      "text/plain": [
       "<Figure size 640x480 with 1 Axes>"
      ]
     },
     "metadata": {},
     "output_type": "display_data"
    }
   ],
   "source": [
    "f.latitude[0].plot()"
   ]
  },
  {
   "cell_type": "code",
   "execution_count": 1,
   "metadata": {},
   "outputs": [
    {
     "name": "stdout",
     "output_type": "stream",
     "text": [
      "\n",
      "\n",
      "\n",
      "\n",
      "\n",
      "                        ███╗   ███╗███████╗██████╗ ███████╗██╗     ██╗██╗  ██╗        ██╗██╗\n",
      "                        ████╗ ████║██╔════╝██╔══██╗██╔════╝██║     ██║██║ ██╔╝        ██║██║\n",
      "                        ██╔████╔██║█████╗  ██║  ██║███████╗██║     ██║█████╔╝         ██║██║\n",
      "                        ██║╚██╔╝██║██╔══╝  ██║  ██║╚════██║██║     ██║██╔═██╗         ██║██║\n",
      "                        ██║ ╚═╝ ██║███████╗██████╔╝███████║███████╗██║██║  ██╗███████╗██║██║\n",
      "                        ╚═╝     ╚═╝╚══════╝╚═════╝ ╚══════╝╚══════╝╚═╝╚═╝  ╚═╝╚══════╝╚═╝╚═╝\n",
      "        \n",
      "\n",
      "\n",
      "\n",
      "\n",
      "> Check Mode\n",
      "> Gather and process OCE and MET fields for the oil spill ...\n",
      "> Coordinates lie within Mediterranean Sea ...\n",
      "> Preparing medslik_II.for and config1.txt files ...\n",
      "    > Modifying medslik_ii.for ...\n",
      "    > Modifying config1.txt ...\n",
      "> Compile MEDSLIK-II (v3.01) ...\n",
      "| iter                 | target               | Horizontal Diffusivi | Wind correction (Dri | Wind correction (Dri |\n",
      "--------------------------------------------------------------------------------------------------------------------\n",
      "| \u001b[0m1                   \u001b[0m | \u001b[0m0.518               \u001b[0m | \u001b[0m2.0                 \u001b[0m | \u001b[0m0.0                 \u001b[0m | \u001b[0m0.03                \u001b[0m |\n",
      "| \u001b[95m2                   \u001b[0m | \u001b[95m0.6307              \u001b[0m | \u001b[95m2.326               \u001b[0m | \u001b[95m4.903               \u001b[0m | \u001b[95m0.0155              \u001b[0m |\n",
      "| \u001b[0m3                   \u001b[0m | \u001b[0m0.3207              \u001b[0m | \u001b[0m8.643               \u001b[0m | \u001b[0m-4.212              \u001b[0m | \u001b[0m0.04645             \u001b[0m |\n",
      "====================================================================================================================\n",
      "\n"
     ]
    }
   ],
   "source": [
    "!conda run -p /work/asc/machine_learning/projects/iMagine/bayes_opt_workflow/env/mdk2_env \\\n",
    "python /work/asc/machine_learning/projects/iMagine/bayes_opt/src/main/main.py \\\n",
    "--mode 0"
   ]
  },
  {
   "cell_type": "code",
   "execution_count": 2,
   "metadata": {},
   "outputs": [
    {
     "name": "stdout",
     "output_type": "stream",
     "text": [
      "/work/asc/machine_learning/projects/iMagine/bayes_opt/cases/MDK_BAYESOPT_SIM_2021_08_23_1000_0072h_150.0m_2001_syria/detection_0\n"
     ]
    }
   ],
   "source": [
    "import sys\n",
    "sys.path.append(\"/work/asc/machine_learning/projects/iMagine/bayes_opt/src\")\n",
    "\n",
    "from controller.PathController import PathController\n",
    "\n",
    "instance = PathController()\n",
    "\n",
    "print(instance.get_detection_dir(str(0)))\n"
   ]
  },
  {
   "cell_type": "code",
   "execution_count": 2,
   "metadata": {},
   "outputs": [],
   "source": [
    "import os\n",
    "import shutil\n",
    "\n",
    "def copy_detection_directories_with_content(source_path, destination_path, prefix):\n",
    "    # Assicurati che la directory di destinazione esista\n",
    "    os.makedirs(destination_path, exist_ok=True)\n",
    "\n",
    "    # Itera attraverso tutte le directory nella directory sorgente\n",
    "    for root, dirs, files in os.walk(source_path):\n",
    "        # Filtra le directory in modo che includa solo quelle che iniziano con il prefisso desiderato\n",
    "        dirs[:] = [d for d in dirs if d.startswith(prefix)]\n",
    "\n",
    "        for directory_name in dirs:\n",
    "            source_directory_path = os.path.join(root, directory_name)\n",
    "            # Rimuovi il percorso di origine dal percorso di destinazione\n",
    "            relative_path = os.path.relpath(source_directory_path, source_path)\n",
    "            destination_directory_path = os.path.join(destination_path, relative_path)\n",
    "\n",
    "            # Copia la directory sorgente con tutto il suo contenuto\n",
    "            shutil.copytree(source_directory_path, destination_directory_path)\n",
    "\n",
    "# Esempio di utilizzo\n",
    "source_directory = '/work/asc/machine_learning/projects/iMagine/bayes_opt/use_cases/syria/MDK_BAYESOPT_SIM_2021_08_23_1000_0072h_150.0m_2001_syria_20240122-112022'\n",
    "destination_directory = '/work/asc/machine_learning/projects/iMagine/bayes_opt/use_cases/syria/MDK_BAYESOPT_SIM_2021_08_23_1000_0072h_150.0m_2001_syria_20240122-112022/best_detections'\n",
    "file_prefix = 'detection_'\n",
    "\n",
    "copy_detection_directories_with_content(source_directory, destination_directory, file_prefix)\n"
   ]
  },
  {
   "cell_type": "code",
   "execution_count": 3,
   "metadata": {},
   "outputs": [],
   "source": [
    "import os\n",
    "\n",
    "import sys\n",
    "sys.path.append(\"/work/asc/machine_learning/projects/iMagine/bayes_opt/src\")\n",
    "\n",
    "from controller.PathController import PathController\n",
    "\n",
    "path_controller_instance = PathController()\n",
    "source_directory = \"/work/asc/machine_learning/projects/iMagine/bayes_opt/use_cases/syria/MDK_BAYESOPT_SIM_2021_08_23_1000_0072h_150.0m_2001_syria_20240122-112022\"\n",
    "destination_directory = f\"{os.path.join(path_controller_instance.get_sim_result_dir(), 'best_detections')}\"\n",
    "prefix = \"detection_\"\n",
    "\n",
    "#path_controller_instance.copy_detection_directories_with_content(source_directory, destination_directory, prefix)\n",
    "path_controller_instance.remove_old_detection_directories(source_directory, prefix)"
   ]
  },
  {
   "cell_type": "code",
   "execution_count": 2,
   "metadata": {},
   "outputs": [
    {
     "name": "stdout",
     "output_type": "stream",
     "text": [
      "/work/asc/machine_learning/projects/iMagine/bayes_opt/oil_spill_case_simulation/syria/MDK_BAYESOPT_SIM_2021_08_23_1000_0072h_150.0m_2001_syria_20240122-101151\n",
      "/work/asc/machine_learning/projects/iMagine/bayes_opt/oil_spill_case_simulation/syria/MDK_BAYESOPT_SIM_2021_08_23_1000_0072h_150.0m_2001_syria_20240122-101151/final_result_.csv\n"
     ]
    }
   ],
   "source": [
    "import os\n",
    "import sys\n",
    "sys.path.append(\"/work/asc/machine_learning/projects/iMagine/bayes_opt/src\")\n",
    "\n",
    "from controller.PathController import PathController\n",
    "from service.MDK2SimParamsService import MDK2SimParamsService\n",
    "\n",
    "path_controller_instance = PathController()\n",
    "mdk2_sim_params_service_instance = MDK2SimParamsService()\n",
    "\n",
    "print(path_controller_instance.get_sim_result_dir())\n",
    "\n",
    "\n",
    "def create_final_result_file_and_result_dir(result_dir):\n",
    "    os.makedirs(result_dir, exist_ok=True)\n",
    "    new_path = result_dir + \"/final_result_.csv\"\n",
    "    print(new_path)\n",
    "    values_to_write = mdk2_sim_params_service_instance.get_config_keys() + ['FSS']\n",
    "    header = ','.join(map(str, values_to_write))\n",
    "    with open(new_path, mode='w', newline='') as f:\n",
    "        f.write(header)\n",
    "        \n",
    "create_final_result_file_and_result_dir(path_controller_instance.get_sim_result_dir())"
   ]
  },
  {
   "cell_type": "code",
   "execution_count": 6,
   "metadata": {},
   "outputs": [
    {
     "name": "stdout",
     "output_type": "stream",
     "text": [
      "/work/asc/machine_learning/projects/iMagine/bayes_opt/oil_spill_case_simulation/syria/MDK_BAYESOPT_SIM_2021_08_23_1000_0072h_150.0m_2001_syria_20240122-101151/final_result_.csv\n"
     ]
    }
   ],
   "source": [
    "values = [0.03,0.0,2.0,0.567]\n",
    "\n",
    "def write_final_result_file(values, result_dir):\n",
    "    new_path = result_dir + \"/final_result_.csv\"\n",
    "    print(new_path)\n",
    "    header = ','.join(map(str, values))\n",
    "    with open(new_path, mode='a', newline='') as f:\n",
    "        f.write(\"\\n\")\n",
    "        f.write(header)\n",
    "\n",
    "write_final_result_file(values, path_controller_instance.get_sim_result_dir())"
   ]
  },
  {
   "cell_type": "code",
   "execution_count": 1,
   "metadata": {},
   "outputs": [
    {
     "name": "stdout",
     "output_type": "stream",
     "text": [
      "/work/asc/machine_learning/projects/iMagine/bayes_opt/use_cases/syria/MDK_BAYESOPT_SIM_2021_08_23_1000_0072h_150.0m_2001_syria_20240122-120331/final_result_20240122-120331.csv\n"
     ]
    }
   ],
   "source": [
    "import os\n",
    "\n",
    "import sys\n",
    "sys.path.append(\"/work/asc/machine_learning/projects/iMagine/bayes_opt/src\")\n",
    "\n",
    "from controller.PathController import PathController\n",
    "\n",
    "path_controller_instance = PathController()\n",
    "\n",
    "print(path_controller_instance.get_simulation_result_file(path_controller_instance.get_sim_result_dir()))\n",
    "\n",
    "#path_controller_instance.copy_detection_directories_with_content(path_controller_instance.get_sim_result_dir(), \n",
    "#                                                                f\"{os.path.join(path_controller_instance.get_sim_result_dir(), 'best_detections')}\",\n",
    "#                                                                 \"detection_\")"
   ]
  },
  {
   "cell_type": "code",
   "execution_count": 7,
   "metadata": {},
   "outputs": [
    {
     "ename": "FileNotFoundError",
     "evalue": "[Errno 2] No such file or directory: '/work/asc/machine_learning/projects/iMagine/bayes_opt/use_cases/syria/MDK_BAYESOPT_SIM_2021_08_23_1000_0072h_150.0m_2001_syria_20240122-130842/final_result_20240122-130842.csv'",
     "output_type": "error",
     "traceback": [
      "\u001b[0;31m---------------------------------------------------------------------------\u001b[0m",
      "\u001b[0;31mFileNotFoundError\u001b[0m                         Traceback (most recent call last)",
      "Cell \u001b[0;32mIn[7], line 10\u001b[0m\n\u001b[1;32m      6\u001b[0m \u001b[38;5;28;01mfrom\u001b[39;00m \u001b[38;5;21;01mcontroller\u001b[39;00m\u001b[38;5;21;01m.\u001b[39;00m\u001b[38;5;21;01mPathController\u001b[39;00m \u001b[38;5;28;01mimport\u001b[39;00m PathController\n\u001b[1;32m      8\u001b[0m path_controller_instance \u001b[38;5;241m=\u001b[39m PathController()\n\u001b[0;32m---> 10\u001b[0m df \u001b[38;5;241m=\u001b[39m \u001b[43mpd\u001b[49m\u001b[38;5;241;43m.\u001b[39;49m\u001b[43mread_csv\u001b[49m\u001b[43m(\u001b[49m\u001b[43mpath_controller_instance\u001b[49m\u001b[38;5;241;43m.\u001b[39;49m\u001b[43mget_simulation_result_file\u001b[49m\u001b[43m(\u001b[49m\u001b[43mpath_controller_instance\u001b[49m\u001b[38;5;241;43m.\u001b[39;49m\u001b[43mget_sim_result_dir\u001b[49m\u001b[43m(\u001b[49m\u001b[43m)\u001b[49m\u001b[43m)\u001b[49m\u001b[43m,\u001b[49m\u001b[43m \u001b[49m\u001b[43msep\u001b[49m\u001b[38;5;241;43m=\u001b[39;49m\u001b[38;5;124;43m'\u001b[39;49m\u001b[38;5;124;43m,\u001b[39;49m\u001b[38;5;124;43m'\u001b[39;49m\u001b[43m)\u001b[49m\n\u001b[1;32m     11\u001b[0m df[\u001b[38;5;124m'\u001b[39m\u001b[38;5;124mFSS\u001b[39m\u001b[38;5;124m'\u001b[39m]\u001b[38;5;241m.\u001b[39mmax()\n",
      "File \u001b[0;32m~/mdk2_env/lib/python3.8/site-packages/pandas/io/parsers/readers.py:912\u001b[0m, in \u001b[0;36mread_csv\u001b[0;34m(filepath_or_buffer, sep, delimiter, header, names, index_col, usecols, dtype, engine, converters, true_values, false_values, skipinitialspace, skiprows, skipfooter, nrows, na_values, keep_default_na, na_filter, verbose, skip_blank_lines, parse_dates, infer_datetime_format, keep_date_col, date_parser, date_format, dayfirst, cache_dates, iterator, chunksize, compression, thousands, decimal, lineterminator, quotechar, quoting, doublequote, escapechar, comment, encoding, encoding_errors, dialect, on_bad_lines, delim_whitespace, low_memory, memory_map, float_precision, storage_options, dtype_backend)\u001b[0m\n\u001b[1;32m    899\u001b[0m kwds_defaults \u001b[38;5;241m=\u001b[39m _refine_defaults_read(\n\u001b[1;32m    900\u001b[0m     dialect,\n\u001b[1;32m    901\u001b[0m     delimiter,\n\u001b[0;32m   (...)\u001b[0m\n\u001b[1;32m    908\u001b[0m     dtype_backend\u001b[38;5;241m=\u001b[39mdtype_backend,\n\u001b[1;32m    909\u001b[0m )\n\u001b[1;32m    910\u001b[0m kwds\u001b[38;5;241m.\u001b[39mupdate(kwds_defaults)\n\u001b[0;32m--> 912\u001b[0m \u001b[38;5;28;01mreturn\u001b[39;00m \u001b[43m_read\u001b[49m\u001b[43m(\u001b[49m\u001b[43mfilepath_or_buffer\u001b[49m\u001b[43m,\u001b[49m\u001b[43m \u001b[49m\u001b[43mkwds\u001b[49m\u001b[43m)\u001b[49m\n",
      "File \u001b[0;32m~/mdk2_env/lib/python3.8/site-packages/pandas/io/parsers/readers.py:577\u001b[0m, in \u001b[0;36m_read\u001b[0;34m(filepath_or_buffer, kwds)\u001b[0m\n\u001b[1;32m    574\u001b[0m _validate_names(kwds\u001b[38;5;241m.\u001b[39mget(\u001b[38;5;124m\"\u001b[39m\u001b[38;5;124mnames\u001b[39m\u001b[38;5;124m\"\u001b[39m, \u001b[38;5;28;01mNone\u001b[39;00m))\n\u001b[1;32m    576\u001b[0m \u001b[38;5;66;03m# Create the parser.\u001b[39;00m\n\u001b[0;32m--> 577\u001b[0m parser \u001b[38;5;241m=\u001b[39m \u001b[43mTextFileReader\u001b[49m\u001b[43m(\u001b[49m\u001b[43mfilepath_or_buffer\u001b[49m\u001b[43m,\u001b[49m\u001b[43m \u001b[49m\u001b[38;5;241;43m*\u001b[39;49m\u001b[38;5;241;43m*\u001b[39;49m\u001b[43mkwds\u001b[49m\u001b[43m)\u001b[49m\n\u001b[1;32m    579\u001b[0m \u001b[38;5;28;01mif\u001b[39;00m chunksize \u001b[38;5;129;01mor\u001b[39;00m iterator:\n\u001b[1;32m    580\u001b[0m     \u001b[38;5;28;01mreturn\u001b[39;00m parser\n",
      "File \u001b[0;32m~/mdk2_env/lib/python3.8/site-packages/pandas/io/parsers/readers.py:1407\u001b[0m, in \u001b[0;36mTextFileReader.__init__\u001b[0;34m(self, f, engine, **kwds)\u001b[0m\n\u001b[1;32m   1404\u001b[0m     \u001b[38;5;28mself\u001b[39m\u001b[38;5;241m.\u001b[39moptions[\u001b[38;5;124m\"\u001b[39m\u001b[38;5;124mhas_index_names\u001b[39m\u001b[38;5;124m\"\u001b[39m] \u001b[38;5;241m=\u001b[39m kwds[\u001b[38;5;124m\"\u001b[39m\u001b[38;5;124mhas_index_names\u001b[39m\u001b[38;5;124m\"\u001b[39m]\n\u001b[1;32m   1406\u001b[0m \u001b[38;5;28mself\u001b[39m\u001b[38;5;241m.\u001b[39mhandles: IOHandles \u001b[38;5;241m|\u001b[39m \u001b[38;5;28;01mNone\u001b[39;00m \u001b[38;5;241m=\u001b[39m \u001b[38;5;28;01mNone\u001b[39;00m\n\u001b[0;32m-> 1407\u001b[0m \u001b[38;5;28mself\u001b[39m\u001b[38;5;241m.\u001b[39m_engine \u001b[38;5;241m=\u001b[39m \u001b[38;5;28;43mself\u001b[39;49m\u001b[38;5;241;43m.\u001b[39;49m\u001b[43m_make_engine\u001b[49m\u001b[43m(\u001b[49m\u001b[43mf\u001b[49m\u001b[43m,\u001b[49m\u001b[43m \u001b[49m\u001b[38;5;28;43mself\u001b[39;49m\u001b[38;5;241;43m.\u001b[39;49m\u001b[43mengine\u001b[49m\u001b[43m)\u001b[49m\n",
      "File \u001b[0;32m~/mdk2_env/lib/python3.8/site-packages/pandas/io/parsers/readers.py:1661\u001b[0m, in \u001b[0;36mTextFileReader._make_engine\u001b[0;34m(self, f, engine)\u001b[0m\n\u001b[1;32m   1659\u001b[0m     \u001b[38;5;28;01mif\u001b[39;00m \u001b[38;5;124m\"\u001b[39m\u001b[38;5;124mb\u001b[39m\u001b[38;5;124m\"\u001b[39m \u001b[38;5;129;01mnot\u001b[39;00m \u001b[38;5;129;01min\u001b[39;00m mode:\n\u001b[1;32m   1660\u001b[0m         mode \u001b[38;5;241m+\u001b[39m\u001b[38;5;241m=\u001b[39m \u001b[38;5;124m\"\u001b[39m\u001b[38;5;124mb\u001b[39m\u001b[38;5;124m\"\u001b[39m\n\u001b[0;32m-> 1661\u001b[0m \u001b[38;5;28mself\u001b[39m\u001b[38;5;241m.\u001b[39mhandles \u001b[38;5;241m=\u001b[39m \u001b[43mget_handle\u001b[49m\u001b[43m(\u001b[49m\n\u001b[1;32m   1662\u001b[0m \u001b[43m    \u001b[49m\u001b[43mf\u001b[49m\u001b[43m,\u001b[49m\n\u001b[1;32m   1663\u001b[0m \u001b[43m    \u001b[49m\u001b[43mmode\u001b[49m\u001b[43m,\u001b[49m\n\u001b[1;32m   1664\u001b[0m \u001b[43m    \u001b[49m\u001b[43mencoding\u001b[49m\u001b[38;5;241;43m=\u001b[39;49m\u001b[38;5;28;43mself\u001b[39;49m\u001b[38;5;241;43m.\u001b[39;49m\u001b[43moptions\u001b[49m\u001b[38;5;241;43m.\u001b[39;49m\u001b[43mget\u001b[49m\u001b[43m(\u001b[49m\u001b[38;5;124;43m\"\u001b[39;49m\u001b[38;5;124;43mencoding\u001b[39;49m\u001b[38;5;124;43m\"\u001b[39;49m\u001b[43m,\u001b[49m\u001b[43m \u001b[49m\u001b[38;5;28;43;01mNone\u001b[39;49;00m\u001b[43m)\u001b[49m\u001b[43m,\u001b[49m\n\u001b[1;32m   1665\u001b[0m \u001b[43m    \u001b[49m\u001b[43mcompression\u001b[49m\u001b[38;5;241;43m=\u001b[39;49m\u001b[38;5;28;43mself\u001b[39;49m\u001b[38;5;241;43m.\u001b[39;49m\u001b[43moptions\u001b[49m\u001b[38;5;241;43m.\u001b[39;49m\u001b[43mget\u001b[49m\u001b[43m(\u001b[49m\u001b[38;5;124;43m\"\u001b[39;49m\u001b[38;5;124;43mcompression\u001b[39;49m\u001b[38;5;124;43m\"\u001b[39;49m\u001b[43m,\u001b[49m\u001b[43m \u001b[49m\u001b[38;5;28;43;01mNone\u001b[39;49;00m\u001b[43m)\u001b[49m\u001b[43m,\u001b[49m\n\u001b[1;32m   1666\u001b[0m \u001b[43m    \u001b[49m\u001b[43mmemory_map\u001b[49m\u001b[38;5;241;43m=\u001b[39;49m\u001b[38;5;28;43mself\u001b[39;49m\u001b[38;5;241;43m.\u001b[39;49m\u001b[43moptions\u001b[49m\u001b[38;5;241;43m.\u001b[39;49m\u001b[43mget\u001b[49m\u001b[43m(\u001b[49m\u001b[38;5;124;43m\"\u001b[39;49m\u001b[38;5;124;43mmemory_map\u001b[39;49m\u001b[38;5;124;43m\"\u001b[39;49m\u001b[43m,\u001b[49m\u001b[43m \u001b[49m\u001b[38;5;28;43;01mFalse\u001b[39;49;00m\u001b[43m)\u001b[49m\u001b[43m,\u001b[49m\n\u001b[1;32m   1667\u001b[0m \u001b[43m    \u001b[49m\u001b[43mis_text\u001b[49m\u001b[38;5;241;43m=\u001b[39;49m\u001b[43mis_text\u001b[49m\u001b[43m,\u001b[49m\n\u001b[1;32m   1668\u001b[0m \u001b[43m    \u001b[49m\u001b[43merrors\u001b[49m\u001b[38;5;241;43m=\u001b[39;49m\u001b[38;5;28;43mself\u001b[39;49m\u001b[38;5;241;43m.\u001b[39;49m\u001b[43moptions\u001b[49m\u001b[38;5;241;43m.\u001b[39;49m\u001b[43mget\u001b[49m\u001b[43m(\u001b[49m\u001b[38;5;124;43m\"\u001b[39;49m\u001b[38;5;124;43mencoding_errors\u001b[39;49m\u001b[38;5;124;43m\"\u001b[39;49m\u001b[43m,\u001b[49m\u001b[43m \u001b[49m\u001b[38;5;124;43m\"\u001b[39;49m\u001b[38;5;124;43mstrict\u001b[39;49m\u001b[38;5;124;43m\"\u001b[39;49m\u001b[43m)\u001b[49m\u001b[43m,\u001b[49m\n\u001b[1;32m   1669\u001b[0m \u001b[43m    \u001b[49m\u001b[43mstorage_options\u001b[49m\u001b[38;5;241;43m=\u001b[39;49m\u001b[38;5;28;43mself\u001b[39;49m\u001b[38;5;241;43m.\u001b[39;49m\u001b[43moptions\u001b[49m\u001b[38;5;241;43m.\u001b[39;49m\u001b[43mget\u001b[49m\u001b[43m(\u001b[49m\u001b[38;5;124;43m\"\u001b[39;49m\u001b[38;5;124;43mstorage_options\u001b[39;49m\u001b[38;5;124;43m\"\u001b[39;49m\u001b[43m,\u001b[49m\u001b[43m \u001b[49m\u001b[38;5;28;43;01mNone\u001b[39;49;00m\u001b[43m)\u001b[49m\u001b[43m,\u001b[49m\n\u001b[1;32m   1670\u001b[0m \u001b[43m\u001b[49m\u001b[43m)\u001b[49m\n\u001b[1;32m   1671\u001b[0m \u001b[38;5;28;01massert\u001b[39;00m \u001b[38;5;28mself\u001b[39m\u001b[38;5;241m.\u001b[39mhandles \u001b[38;5;129;01mis\u001b[39;00m \u001b[38;5;129;01mnot\u001b[39;00m \u001b[38;5;28;01mNone\u001b[39;00m\n\u001b[1;32m   1672\u001b[0m f \u001b[38;5;241m=\u001b[39m \u001b[38;5;28mself\u001b[39m\u001b[38;5;241m.\u001b[39mhandles\u001b[38;5;241m.\u001b[39mhandle\n",
      "File \u001b[0;32m~/mdk2_env/lib/python3.8/site-packages/pandas/io/common.py:859\u001b[0m, in \u001b[0;36mget_handle\u001b[0;34m(path_or_buf, mode, encoding, compression, memory_map, is_text, errors, storage_options)\u001b[0m\n\u001b[1;32m    854\u001b[0m \u001b[38;5;28;01melif\u001b[39;00m \u001b[38;5;28misinstance\u001b[39m(handle, \u001b[38;5;28mstr\u001b[39m):\n\u001b[1;32m    855\u001b[0m     \u001b[38;5;66;03m# Check whether the filename is to be opened in binary mode.\u001b[39;00m\n\u001b[1;32m    856\u001b[0m     \u001b[38;5;66;03m# Binary mode does not support 'encoding' and 'newline'.\u001b[39;00m\n\u001b[1;32m    857\u001b[0m     \u001b[38;5;28;01mif\u001b[39;00m ioargs\u001b[38;5;241m.\u001b[39mencoding \u001b[38;5;129;01mand\u001b[39;00m \u001b[38;5;124m\"\u001b[39m\u001b[38;5;124mb\u001b[39m\u001b[38;5;124m\"\u001b[39m \u001b[38;5;129;01mnot\u001b[39;00m \u001b[38;5;129;01min\u001b[39;00m ioargs\u001b[38;5;241m.\u001b[39mmode:\n\u001b[1;32m    858\u001b[0m         \u001b[38;5;66;03m# Encoding\u001b[39;00m\n\u001b[0;32m--> 859\u001b[0m         handle \u001b[38;5;241m=\u001b[39m \u001b[38;5;28;43mopen\u001b[39;49m\u001b[43m(\u001b[49m\n\u001b[1;32m    860\u001b[0m \u001b[43m            \u001b[49m\u001b[43mhandle\u001b[49m\u001b[43m,\u001b[49m\n\u001b[1;32m    861\u001b[0m \u001b[43m            \u001b[49m\u001b[43mioargs\u001b[49m\u001b[38;5;241;43m.\u001b[39;49m\u001b[43mmode\u001b[49m\u001b[43m,\u001b[49m\n\u001b[1;32m    862\u001b[0m \u001b[43m            \u001b[49m\u001b[43mencoding\u001b[49m\u001b[38;5;241;43m=\u001b[39;49m\u001b[43mioargs\u001b[49m\u001b[38;5;241;43m.\u001b[39;49m\u001b[43mencoding\u001b[49m\u001b[43m,\u001b[49m\n\u001b[1;32m    863\u001b[0m \u001b[43m            \u001b[49m\u001b[43merrors\u001b[49m\u001b[38;5;241;43m=\u001b[39;49m\u001b[43merrors\u001b[49m\u001b[43m,\u001b[49m\n\u001b[1;32m    864\u001b[0m \u001b[43m            \u001b[49m\u001b[43mnewline\u001b[49m\u001b[38;5;241;43m=\u001b[39;49m\u001b[38;5;124;43m\"\u001b[39;49m\u001b[38;5;124;43m\"\u001b[39;49m\u001b[43m,\u001b[49m\n\u001b[1;32m    865\u001b[0m \u001b[43m        \u001b[49m\u001b[43m)\u001b[49m\n\u001b[1;32m    866\u001b[0m     \u001b[38;5;28;01melse\u001b[39;00m:\n\u001b[1;32m    867\u001b[0m         \u001b[38;5;66;03m# Binary mode\u001b[39;00m\n\u001b[1;32m    868\u001b[0m         handle \u001b[38;5;241m=\u001b[39m \u001b[38;5;28mopen\u001b[39m(handle, ioargs\u001b[38;5;241m.\u001b[39mmode)\n",
      "\u001b[0;31mFileNotFoundError\u001b[0m: [Errno 2] No such file or directory: '/work/asc/machine_learning/projects/iMagine/bayes_opt/use_cases/syria/MDK_BAYESOPT_SIM_2021_08_23_1000_0072h_150.0m_2001_syria_20240122-130842/final_result_20240122-130842.csv'"
     ]
    }
   ],
   "source": [
    "import pandas as pd\n",
    "\n",
    "df = pd.read_csv(\"/work/asc/machine_learning/projects/iMagine/bayes_opt/oil_spill_case_simulation/syria/MDK_BAYESOPT_SIM_2021_08_23_1000_0072h_150.0m_2001_syria_20240122-103852/final_result_.csv\", sep=',')\n",
    "df['FSS'].max()"
   ]
  },
  {
   "cell_type": "code",
   "execution_count": 1,
   "metadata": {},
   "outputs": [
    {
     "name": "stdout",
     "output_type": "stream",
     "text": [
      "/work/asc/machine_learning/projects/iMagine/bayes_opt/simulation/Medslik-II/MEDSLIK_II_3.01/OUT/MDK2_SIM_2021_08_23_1000_syria\n"
     ]
    }
   ],
   "source": [
    "import sys\n",
    "sys.path.append(\"/work/asc/machine_learning/projects/iMagine/bayes_opt/src\")\n",
    "\n",
    "from controller.PathController import PathController\n",
    "\n",
    "instance = PathController()\n",
    "\n",
    "print(instance.get_MEDSLIK_OUT_DIR())\n"
   ]
  },
  {
   "cell_type": "code",
   "execution_count": 2,
   "metadata": {},
   "outputs": [
    {
     "data": {
      "text/plain": [
       "True"
      ]
     },
     "execution_count": 2,
     "metadata": {},
     "output_type": "execute_result"
    }
   ],
   "source": [
    "import pandas as pd\n",
    "max_fss = pd.read_csv(\n",
    "            \"/work/asc/machine_learning/projects/iMagine/bayes_opt/use_cases/syria/MDK_BAYESOPT_SIM_2021_08_23_1000_0072h_150.0m_2001_syria_20240122-132400/final_result_20240122-132400.csv\"\n",
    "            , sep=',')['FSS'].max()\n",
    "pd.notna(max_fss)"
   ]
  },
  {
   "cell_type": "code",
   "execution_count": 8,
   "metadata": {},
   "outputs": [
    {
     "name": "stdout",
     "output_type": "stream",
     "text": [
      "True\n"
     ]
    }
   ],
   "source": [
    "import pandas as pd\n",
    "import sys\n",
    "sys.path.append(\"/work/asc/machine_learning/projects/iMagine/bayes_opt/src\")\n",
    "\n",
    "from controller.PathController import PathController\n",
    "\n",
    "path_controller_instance = PathController()\n",
    "\n",
    "def is_new_max_impl(value):\n",
    "    max_fss = pd.read_csv(\n",
    "        \"/work/asc/machine_learning/projects/iMagine/bayes_opt/use_cases/syria/MDK_BAYESOPT_SIM_2021_08_23_1000_0072h_150.0m_2001_syria_20240122-154223/final_result_20240122-154223.csv\", sep=',')['FSS'].max()\n",
    "    \n",
    "    return value > max_fss if pd.notna(max_fss) else True\n",
    "\n",
    "is_new_max_val = is_new_max_impl(10)\n",
    "print(is_new_max_val)"
   ]
  },
  {
   "cell_type": "code",
   "execution_count": 2,
   "metadata": {},
   "outputs": [
    {
     "name": "stdout",
     "output_type": "stream",
     "text": [
      "nan\n",
      "ciao\n"
     ]
    }
   ],
   "source": [
    "import pandas as pd\n",
    "\n",
    "def test():\n",
    "    max_fss = pd.read_csv(\n",
    "        \"/work/asc/machine_learning/projects/iMagine/bayes_opt/use_cases/syria/MDK_BAYESOPT_SIM_2021_08_23_1000_0072h_150.0m_2001_syria_20240122-154223/final_result_20240122-154223.csv\", sep=',')['FSS'].max()\n",
    "    print(max_fss)\n",
    "    if pd.isna(max_fss):\n",
    "        print('ciao')\n",
    "        \n",
    "test()"
   ]
  },
  {
   "cell_type": "code",
   "execution_count": 1,
   "metadata": {},
   "outputs": [
    {
     "data": {
      "text/plain": [
       "'BAYESOPT'"
      ]
     },
     "execution_count": 1,
     "metadata": {},
     "output_type": "execute_result"
    }
   ],
   "source": [
    "import sys\n",
    "sys.path.append(\"/work/asc/machine_learning/projects/iMagine/bayes_opt/src\")\n",
    "\n",
    "from serviceImpl.WorkflowServiceImpl import ExecutionType\n",
    "\n",
    "instance = ExecutionType(0)\n",
    "\n",
    "def get_execution_type_name(value):\n",
    "    for et in ExecutionType:\n",
    "        if et.value == value:\n",
    "            return et.name\n",
    "    return None\n",
    "\n",
    "get_execution_type_name(0)"
   ]
  },
  {
   "cell_type": "code",
   "execution_count": 8,
   "metadata": {},
   "outputs": [
    {
     "name": "stdout",
     "output_type": "stream",
     "text": [
      "env: PYTHONPATH=$PYTHONPATH:/work/asc/machine_learning/projects/iMagine/bayes_opt_20240214\n",
      "/work/asc/machine_learning/projects/iMagine/bayes_opt_20240214\n",
      "/work/asc/machine_learning/projects/iMagine/bayes_opt_20240214/use_case_observations/syria/observations_2021_08_23_1000\n",
      "/2021082*\n"
     ]
    }
   ],
   "source": [
    "%env PYTHONPATH=$PYTHONPATH:/work/asc/machine_learning/projects/iMagine/bayes_opt_20240214\n",
    "\n",
    "import sys\n",
    "sys.path.append(\"/work/asc/machine_learning/projects/iMagine/bayes_opt_20240214\")\n",
    "\n",
    "from src.controller.PathController import PathController\n",
    "\n",
    "path_controller_instance = PathController()\n",
    "\n",
    "print(path_controller_instance.get_ROOT())\n",
    "print(path_controller_instance.get_OBS())\n",
    "print(path_controller_instance.get_DAYS_GROUP())"
   ]
  },
  {
   "cell_type": "code",
   "execution_count": 17,
   "metadata": {},
   "outputs": [
    {
     "name": "stdout",
     "output_type": "stream",
     "text": [
      "2021-08-24 00:00:00\n",
      "2021-08-24 00:00:00\n",
      "2021-08-24 00:00:00\n"
     ]
    }
   ],
   "source": [
    "# %env PYTHONPATH=$PYTHONPATH:/work/asc/machine_learning/projects/iMagine/bayes_opt_20240214\n",
    "\n",
    "import os\n",
    "from datetime import datetime, timedelta\n",
    "\n",
    "num_days_to_increment = 3\n",
    "\n",
    "for i in range(num_days_to_increment):\n",
    "\n",
    "    # Percorso della directory da esaminare\n",
    "    directory_path = path_controller_instance.get_OBS()\n",
    "\n",
    "    # Data iniziale da cercare (formato: \"YYYY_MM_DD\")\n",
    "    initial_date_str = \"20210824\"\n",
    "\n",
    "    initial_date = datetime.strptime(initial_date_str, \"%Y%m%d\")\n",
    "    print(str(initial_date))\n",
    "\n",
    "    # Lista per contenere i percorsi delle directory che iniziano con la data iniziale\n",
    "    matching_directories = []\n",
    "\n",
    "    # Elencare tutti gli elementi nella directory\n",
    "    all_directories = os.listdir(directory_path)\n",
    "\n",
    "    # Filtrare solo le directory che iniziano con la data iniziale\n",
    "    for item in all_directories:\n",
    "        if os.path.isdir(os.path.join(directory_path, item)) and item.startswith(str(initial_date)):\n",
    "            matching_directories.append(os.path.join(directory_path, item))\n",
    "\n",
    "    # Stampare i percorsi delle directory corrispondenti\n",
    "    for directory in matching_directories:\n",
    "        print(directory)\n",
    "\n",
    "    # Incrementare la data di 1 giorno\n",
    "    initial_date += timedelta(days=num_days_to_increment)\n",
    "    # Convertire la data incrementata in stringa nel formato \"YYYYMMDD\"\n",
    "    incremented_date_str = initial_date.strftime(\"%Y%m%d\")\n",
    "\n",
    "    "
   ]
  },
  {
   "cell_type": "code",
   "execution_count": 14,
   "metadata": {},
   "outputs": [
    {
     "name": "stdout",
     "output_type": "stream",
     "text": [
      "20210825\n",
      "20210826\n",
      "20210827\n",
      "20210828\n",
      "20210829\n",
      "20210830\n",
      "20210831\n",
      "20210901\n",
      "20210902\n",
      "20210903\n"
     ]
    }
   ],
   "source": [
    "from datetime import datetime, timedelta\n",
    "\n",
    "# Data iniziale\n",
    "initial_date_str = \"20210824\"\n",
    "\n",
    "# Convertire la data iniziale in un oggetto datetime\n",
    "initial_date = datetime.strptime(initial_date_str, \"%Y%m%d\")\n",
    "\n",
    "# Numero di giorni da incrementare\n",
    "num_days_to_increment = 1\n",
    "\n",
    "# Ciclo for per incrementare la data\n",
    "for i in range(10):  # Esempio: incrementa la data per 10 giorni\n",
    "    # Incrementare la data di 1 giorno\n",
    "    initial_date += timedelta(days=num_days_to_increment)\n",
    "    # Convertire la data incrementata in stringa nel formato \"YYYYMMDD\"\n",
    "    incremented_date_str = initial_date.strftime(\"%Y%m%d\")\n",
    "    # Stampare la data incrementata\n",
    "    print(incremented_date_str)"
   ]
  },
  {
   "cell_type": "code",
   "execution_count": null,
   "metadata": {},
   "outputs": [],
   "source": []
  }
 ],
 "metadata": {
  "kernelspec": {
   "display_name": "mdk2_env",
   "language": "python",
   "name": "mdk2_env"
  },
  "language_info": {
   "codemirror_mode": {
    "name": "ipython",
    "version": 3
   },
   "file_extension": ".py",
   "mimetype": "text/x-python",
   "name": "python",
   "nbconvert_exporter": "python",
   "pygments_lexer": "ipython3",
   "version": "3.8.18"
  }
 },
 "nbformat": 4,
 "nbformat_minor": 2
}
